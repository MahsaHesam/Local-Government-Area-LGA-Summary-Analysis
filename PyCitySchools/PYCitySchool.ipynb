{
 "cells": [
  {
   "cell_type": "code",
   "execution_count": 212,
   "id": "0154a483-7885-44da-80ed-6ebc3a0aebc6",
   "metadata": {},
   "outputs": [],
   "source": [
    "## Report\n"
   ]
  },
  {
   "cell_type": "code",
   "execution_count": 4,
   "id": "8c7cd7f1-4b9e-4f85-881d-87c811bae6bf",
   "metadata": {},
   "outputs": [],
   "source": [
    "import pandas as pd"
   ]
  },
  {
   "cell_type": "code",
   "execution_count": 6,
   "id": "bcce5be9-344c-45b6-9697-a8c1ac9094d1",
   "metadata": {},
   "outputs": [],
   "source": [
    "# Read csv files and store in Pandas Dataframe\n",
    "school_data =\"../Resources/schools_complete.csv\"\n",
    "student_data =\"../Resources/students_complete.csv\"\n",
    "school_data_df = pd.read_csv(school_data)\n",
    "student_data_df = pd.read_csv(student_data)\n"
   ]
  },
  {
   "cell_type": "code",
   "execution_count": 7,
   "id": "a2310d7b-0389-4a6f-b333-eaf1411baeff",
   "metadata": {},
   "outputs": [
    {
     "data": {
      "text/html": [
       "<div>\n",
       "<style scoped>\n",
       "    .dataframe tbody tr th:only-of-type {\n",
       "        vertical-align: middle;\n",
       "    }\n",
       "\n",
       "    .dataframe tbody tr th {\n",
       "        vertical-align: top;\n",
       "    }\n",
       "\n",
       "    .dataframe thead th {\n",
       "        text-align: right;\n",
       "    }\n",
       "</style>\n",
       "<table border=\"1\" class=\"dataframe\">\n",
       "  <thead>\n",
       "    <tr style=\"text-align: right;\">\n",
       "      <th></th>\n",
       "      <th>School ID</th>\n",
       "      <th>school_name</th>\n",
       "      <th>type</th>\n",
       "      <th>size</th>\n",
       "      <th>budget</th>\n",
       "    </tr>\n",
       "  </thead>\n",
       "  <tbody>\n",
       "    <tr>\n",
       "      <th>0</th>\n",
       "      <td>0</td>\n",
       "      <td>Huang High School</td>\n",
       "      <td>Government</td>\n",
       "      <td>2917</td>\n",
       "      <td>1910635</td>\n",
       "    </tr>\n",
       "    <tr>\n",
       "      <th>1</th>\n",
       "      <td>1</td>\n",
       "      <td>Figueroa High School</td>\n",
       "      <td>Government</td>\n",
       "      <td>2949</td>\n",
       "      <td>1884411</td>\n",
       "    </tr>\n",
       "    <tr>\n",
       "      <th>2</th>\n",
       "      <td>2</td>\n",
       "      <td>Shelton High School</td>\n",
       "      <td>Independent</td>\n",
       "      <td>1761</td>\n",
       "      <td>1056600</td>\n",
       "    </tr>\n",
       "    <tr>\n",
       "      <th>3</th>\n",
       "      <td>3</td>\n",
       "      <td>Hernandez High School</td>\n",
       "      <td>Government</td>\n",
       "      <td>4635</td>\n",
       "      <td>3022020</td>\n",
       "    </tr>\n",
       "    <tr>\n",
       "      <th>4</th>\n",
       "      <td>4</td>\n",
       "      <td>Griffin High School</td>\n",
       "      <td>Independent</td>\n",
       "      <td>1468</td>\n",
       "      <td>917500</td>\n",
       "    </tr>\n",
       "  </tbody>\n",
       "</table>\n",
       "</div>"
      ],
      "text/plain": [
       "   School ID            school_name         type  size   budget\n",
       "0          0      Huang High School   Government  2917  1910635\n",
       "1          1   Figueroa High School   Government  2949  1884411\n",
       "2          2    Shelton High School  Independent  1761  1056600\n",
       "3          3  Hernandez High School   Government  4635  3022020\n",
       "4          4    Griffin High School  Independent  1468   917500"
      ]
     },
     "execution_count": 7,
     "metadata": {},
     "output_type": "execute_result"
    }
   ],
   "source": [
    "school_data_df.head(5)"
   ]
  },
  {
   "cell_type": "code",
   "execution_count": 8,
   "id": "546e462d-349f-4e08-b506-ce1d4a653567",
   "metadata": {},
   "outputs": [
    {
     "data": {
      "text/html": [
       "<div>\n",
       "<style scoped>\n",
       "    .dataframe tbody tr th:only-of-type {\n",
       "        vertical-align: middle;\n",
       "    }\n",
       "\n",
       "    .dataframe tbody tr th {\n",
       "        vertical-align: top;\n",
       "    }\n",
       "\n",
       "    .dataframe thead th {\n",
       "        text-align: right;\n",
       "    }\n",
       "</style>\n",
       "<table border=\"1\" class=\"dataframe\">\n",
       "  <thead>\n",
       "    <tr style=\"text-align: right;\">\n",
       "      <th></th>\n",
       "      <th>Student ID</th>\n",
       "      <th>student_name</th>\n",
       "      <th>gender</th>\n",
       "      <th>year</th>\n",
       "      <th>school_name</th>\n",
       "      <th>reading_score</th>\n",
       "      <th>maths_score</th>\n",
       "    </tr>\n",
       "  </thead>\n",
       "  <tbody>\n",
       "    <tr>\n",
       "      <th>0</th>\n",
       "      <td>0</td>\n",
       "      <td>Paul Bradley</td>\n",
       "      <td>M</td>\n",
       "      <td>9</td>\n",
       "      <td>Huang High School</td>\n",
       "      <td>96</td>\n",
       "      <td>94</td>\n",
       "    </tr>\n",
       "    <tr>\n",
       "      <th>1</th>\n",
       "      <td>1</td>\n",
       "      <td>Victor Smith</td>\n",
       "      <td>M</td>\n",
       "      <td>12</td>\n",
       "      <td>Huang High School</td>\n",
       "      <td>90</td>\n",
       "      <td>43</td>\n",
       "    </tr>\n",
       "    <tr>\n",
       "      <th>2</th>\n",
       "      <td>2</td>\n",
       "      <td>Kevin Rodriguez</td>\n",
       "      <td>M</td>\n",
       "      <td>12</td>\n",
       "      <td>Huang High School</td>\n",
       "      <td>41</td>\n",
       "      <td>76</td>\n",
       "    </tr>\n",
       "    <tr>\n",
       "      <th>3</th>\n",
       "      <td>3</td>\n",
       "      <td>Richard Scott</td>\n",
       "      <td>M</td>\n",
       "      <td>12</td>\n",
       "      <td>Huang High School</td>\n",
       "      <td>89</td>\n",
       "      <td>86</td>\n",
       "    </tr>\n",
       "    <tr>\n",
       "      <th>4</th>\n",
       "      <td>4</td>\n",
       "      <td>Bonnie Ray</td>\n",
       "      <td>F</td>\n",
       "      <td>9</td>\n",
       "      <td>Huang High School</td>\n",
       "      <td>87</td>\n",
       "      <td>69</td>\n",
       "    </tr>\n",
       "  </tbody>\n",
       "</table>\n",
       "</div>"
      ],
      "text/plain": [
       "   Student ID     student_name gender  year        school_name  reading_score  \\\n",
       "0           0     Paul Bradley      M     9  Huang High School             96   \n",
       "1           1     Victor Smith      M    12  Huang High School             90   \n",
       "2           2  Kevin Rodriguez      M    12  Huang High School             41   \n",
       "3           3    Richard Scott      M    12  Huang High School             89   \n",
       "4           4       Bonnie Ray      F     9  Huang High School             87   \n",
       "\n",
       "   maths_score  \n",
       "0           94  \n",
       "1           43  \n",
       "2           76  \n",
       "3           86  \n",
       "4           69  "
      ]
     },
     "execution_count": 8,
     "metadata": {},
     "output_type": "execute_result"
    }
   ],
   "source": [
    "student_data_df.head(5)"
   ]
  },
  {
   "cell_type": "code",
   "execution_count": 13,
   "id": "353901bb-5211-485e-8c6c-4a59046af9bc",
   "metadata": {},
   "outputs": [],
   "source": [
    "# Combine the data into a single dataset\n",
    "school_data_complete_df = pd.merge(student_data_df, school_data_df, how=\"left\", on=[\"school_name\", \"school_name\"])"
   ]
  },
  {
   "cell_type": "code",
   "execution_count": 14,
   "id": "93592585-d571-4c1f-946f-13fb7945b556",
   "metadata": {},
   "outputs": [
    {
     "data": {
      "text/html": [
       "<div>\n",
       "<style scoped>\n",
       "    .dataframe tbody tr th:only-of-type {\n",
       "        vertical-align: middle;\n",
       "    }\n",
       "\n",
       "    .dataframe tbody tr th {\n",
       "        vertical-align: top;\n",
       "    }\n",
       "\n",
       "    .dataframe thead th {\n",
       "        text-align: right;\n",
       "    }\n",
       "</style>\n",
       "<table border=\"1\" class=\"dataframe\">\n",
       "  <thead>\n",
       "    <tr style=\"text-align: right;\">\n",
       "      <th></th>\n",
       "      <th>Student ID</th>\n",
       "      <th>student_name</th>\n",
       "      <th>gender</th>\n",
       "      <th>year</th>\n",
       "      <th>school_name</th>\n",
       "      <th>reading_score</th>\n",
       "      <th>maths_score</th>\n",
       "      <th>School ID</th>\n",
       "      <th>type</th>\n",
       "      <th>size</th>\n",
       "      <th>budget</th>\n",
       "    </tr>\n",
       "  </thead>\n",
       "  <tbody>\n",
       "    <tr>\n",
       "      <th>0</th>\n",
       "      <td>0</td>\n",
       "      <td>Paul Bradley</td>\n",
       "      <td>M</td>\n",
       "      <td>9</td>\n",
       "      <td>Huang High School</td>\n",
       "      <td>96</td>\n",
       "      <td>94</td>\n",
       "      <td>0</td>\n",
       "      <td>Government</td>\n",
       "      <td>2917</td>\n",
       "      <td>1910635</td>\n",
       "    </tr>\n",
       "    <tr>\n",
       "      <th>1</th>\n",
       "      <td>1</td>\n",
       "      <td>Victor Smith</td>\n",
       "      <td>M</td>\n",
       "      <td>12</td>\n",
       "      <td>Huang High School</td>\n",
       "      <td>90</td>\n",
       "      <td>43</td>\n",
       "      <td>0</td>\n",
       "      <td>Government</td>\n",
       "      <td>2917</td>\n",
       "      <td>1910635</td>\n",
       "    </tr>\n",
       "    <tr>\n",
       "      <th>2</th>\n",
       "      <td>2</td>\n",
       "      <td>Kevin Rodriguez</td>\n",
       "      <td>M</td>\n",
       "      <td>12</td>\n",
       "      <td>Huang High School</td>\n",
       "      <td>41</td>\n",
       "      <td>76</td>\n",
       "      <td>0</td>\n",
       "      <td>Government</td>\n",
       "      <td>2917</td>\n",
       "      <td>1910635</td>\n",
       "    </tr>\n",
       "    <tr>\n",
       "      <th>3</th>\n",
       "      <td>3</td>\n",
       "      <td>Richard Scott</td>\n",
       "      <td>M</td>\n",
       "      <td>12</td>\n",
       "      <td>Huang High School</td>\n",
       "      <td>89</td>\n",
       "      <td>86</td>\n",
       "      <td>0</td>\n",
       "      <td>Government</td>\n",
       "      <td>2917</td>\n",
       "      <td>1910635</td>\n",
       "    </tr>\n",
       "    <tr>\n",
       "      <th>4</th>\n",
       "      <td>4</td>\n",
       "      <td>Bonnie Ray</td>\n",
       "      <td>F</td>\n",
       "      <td>9</td>\n",
       "      <td>Huang High School</td>\n",
       "      <td>87</td>\n",
       "      <td>69</td>\n",
       "      <td>0</td>\n",
       "      <td>Government</td>\n",
       "      <td>2917</td>\n",
       "      <td>1910635</td>\n",
       "    </tr>\n",
       "  </tbody>\n",
       "</table>\n",
       "</div>"
      ],
      "text/plain": [
       "   Student ID     student_name gender  year        school_name  reading_score  \\\n",
       "0           0     Paul Bradley      M     9  Huang High School             96   \n",
       "1           1     Victor Smith      M    12  Huang High School             90   \n",
       "2           2  Kevin Rodriguez      M    12  Huang High School             41   \n",
       "3           3    Richard Scott      M    12  Huang High School             89   \n",
       "4           4       Bonnie Ray      F     9  Huang High School             87   \n",
       "\n",
       "   maths_score  School ID        type  size   budget  \n",
       "0           94          0  Government  2917  1910635  \n",
       "1           43          0  Government  2917  1910635  \n",
       "2           76          0  Government  2917  1910635  \n",
       "3           86          0  Government  2917  1910635  \n",
       "4           69          0  Government  2917  1910635  "
      ]
     },
     "execution_count": 14,
     "metadata": {},
     "output_type": "execute_result"
    }
   ],
   "source": [
    "school_data_complete_df.head(5)"
   ]
  },
  {
   "cell_type": "code",
   "execution_count": 69,
   "id": "7f887f45-22ac-4cc6-ba6c-df7c6b597d86",
   "metadata": {},
   "outputs": [
    {
     "data": {
      "text/plain": [
       "<pandas.core.groupby.generic.DataFrameGroupBy object at 0x000001D7B52CD0D0>"
      ]
     },
     "execution_count": 69,
     "metadata": {},
     "output_type": "execute_result"
    }
   ],
   "source": [
    "# School name\n",
    "school_data_complete_df.groupby([\"school_name\"])"
   ]
  },
  {
   "cell_type": "code",
   "execution_count": 20,
   "id": "38d17775-7cf1-491f-86fd-fabfdf68e947",
   "metadata": {},
   "outputs": [
    {
     "data": {
      "text/plain": [
       "Index(['Student ID', 'student_name', 'gender', 'year', 'school_name',\n",
       "       'reading_score', 'maths_score', 'School ID', 'type', 'size', 'budget'],\n",
       "      dtype='object')"
      ]
     },
     "execution_count": 20,
     "metadata": {},
     "output_type": "execute_result"
    }
   ],
   "source": [
    "school_data_complete_df.columns"
   ]
  },
  {
   "cell_type": "code",
   "execution_count": 68,
   "id": "332a2c06-a7fb-4f18-be57-ca0c2b9d982b",
   "metadata": {},
   "outputs": [
    {
     "data": {
      "text/plain": [
       "Student ID        int64\n",
       "student_name     object\n",
       "gender           object\n",
       "year              int64\n",
       "school_name      object\n",
       "reading_score     int64\n",
       "maths_score       int64\n",
       "School ID         int64\n",
       "type             object\n",
       "size              int64\n",
       "budget            int64\n",
       "dtype: object"
      ]
     },
     "execution_count": 68,
     "metadata": {},
     "output_type": "execute_result"
    }
   ],
   "source": [
    "# School type\n",
    "school_data_complete_df.dtypes"
   ]
  },
  {
   "cell_type": "code",
   "execution_count": 23,
   "id": "1873d703-4ce5-428b-abae-5183309085b2",
   "metadata": {},
   "outputs": [
    {
     "data": {
      "text/plain": [
       "39170"
      ]
     },
     "execution_count": 23,
     "metadata": {},
     "output_type": "execute_result"
    }
   ],
   "source": [
    "total_students"
   ]
  },
  {
   "cell_type": "code",
   "execution_count": 35,
   "id": "e8dd53cc-8d25-40ec-8402-bf4569a73fe9",
   "metadata": {},
   "outputs": [],
   "source": [
    "# Total School\n",
    "total_schools = school_data_complete_df[\"school_name\"].unique()"
   ]
  },
  {
   "cell_type": "code",
   "execution_count": 36,
   "id": "c7f90d22-8649-4dc1-bf67-b119289355f5",
   "metadata": {},
   "outputs": [
    {
     "data": {
      "text/plain": [
       "array(['Huang High School', 'Figueroa High School', 'Shelton High School',\n",
       "       'Hernandez High School', 'Griffin High School',\n",
       "       'Wilson High School', 'Cabrera High School', 'Bailey High School',\n",
       "       'Holden High School', 'Pena High School', 'Wright High School',\n",
       "       'Rodriguez High School', 'Johnson High School', 'Ford High School',\n",
       "       'Thomas High School'], dtype=object)"
      ]
     },
     "execution_count": 36,
     "metadata": {},
     "output_type": "execute_result"
    }
   ],
   "source": [
    "total_schools"
   ]
  },
  {
   "cell_type": "code",
   "execution_count": 37,
   "id": "1564617f-54ae-4aad-8c2c-f2312f3a0e66",
   "metadata": {},
   "outputs": [],
   "source": [
    "# Total School\n",
    "total_schools = school_data_complete_df[\"school_name\"].nunique()"
   ]
  },
  {
   "cell_type": "code",
   "execution_count": 38,
   "id": "988629d4-c4fd-4615-860e-e00e2bac4a6d",
   "metadata": {},
   "outputs": [
    {
     "data": {
      "text/plain": [
       "15"
      ]
     },
     "execution_count": 38,
     "metadata": {},
     "output_type": "execute_result"
    }
   ],
   "source": [
    "total_schools"
   ]
  },
  {
   "cell_type": "code",
   "execution_count": 26,
   "id": "c3f64221-0257-443d-a6e3-cd55c3fb203d",
   "metadata": {},
   "outputs": [],
   "source": [
    "# Total School Budget\n",
    "total_school_budget = school_data_df[\"budget\"].sum()"
   ]
  },
  {
   "cell_type": "code",
   "execution_count": 27,
   "id": "d36c7973-7d58-415b-908b-541a64e8eb30",
   "metadata": {},
   "outputs": [
    {
     "data": {
      "text/plain": [
       "24649428"
      ]
     },
     "execution_count": 27,
     "metadata": {},
     "output_type": "execute_result"
    }
   ],
   "source": [
    "total_school_budget"
   ]
  },
  {
   "cell_type": "code",
   "execution_count": 30,
   "id": "a764d66b-c401-4285-8e61-3ba9e31efea7",
   "metadata": {},
   "outputs": [],
   "source": [
    "# Average math score\n",
    "average_math_score = student_data_df[\"maths_score\"].mean()"
   ]
  },
  {
   "cell_type": "code",
   "execution_count": 31,
   "id": "19a49efc-b56b-4b53-8ea9-24f417558b5b",
   "metadata": {},
   "outputs": [
    {
     "data": {
      "text/plain": [
       "70.33819249425581"
      ]
     },
     "execution_count": 31,
     "metadata": {},
     "output_type": "execute_result"
    }
   ],
   "source": [
    "average_math_score"
   ]
  },
  {
   "cell_type": "code",
   "execution_count": 33,
   "id": "a7692427-d520-404b-ac55-9ca321e08b1e",
   "metadata": {},
   "outputs": [],
   "source": [
    "# Average Reading score\n",
    "average_reading_score = student_data_df[\"reading_score\"].mean()\n"
   ]
  },
  {
   "cell_type": "code",
   "execution_count": 34,
   "id": "719c25a5-337c-4055-9d0c-6dd0a89951c8",
   "metadata": {},
   "outputs": [
    {
     "data": {
      "text/plain": [
       "69.98013786060761"
      ]
     },
     "execution_count": 34,
     "metadata": {},
     "output_type": "execute_result"
    }
   ],
   "source": [
    "average_reading_score"
   ]
  },
  {
   "cell_type": "code",
   "execution_count": 40,
   "id": "e7356cc2-2a11-4bca-9919-ed18f1ebc296",
   "metadata": {},
   "outputs": [],
   "source": [
    "# % Passing Maths\n",
    "passing_maths_score_df = school_data_complete_df.loc[school_data_complete_df[\"maths_score\"] >= 50]\n",
    "percentage_passing_maths_score = len(passing_maths_score_df)/total_students * 100"
   ]
  },
  {
   "cell_type": "code",
   "execution_count": 41,
   "id": "77fd62a1-f400-4029-8dae-8c7dcde1af85",
   "metadata": {},
   "outputs": [
    {
     "data": {
      "text/plain": [
       "86.07863160582077"
      ]
     },
     "execution_count": 41,
     "metadata": {},
     "output_type": "execute_result"
    }
   ],
   "source": [
    "percentage_passing_maths_score"
   ]
  },
  {
   "cell_type": "code",
   "execution_count": 42,
   "id": "60267dc7-29ba-4cf3-96b0-a68af663cced",
   "metadata": {},
   "outputs": [],
   "source": [
    "# % Passing Reading\n",
    "passing_reading_score_df = school_data_complete_df.loc[school_data_complete_df[\"reading_score\"] >= 50]\n",
    "percentage_passing_reading_score = len(passing_reading_score_df)/total_students * 100"
   ]
  },
  {
   "cell_type": "code",
   "execution_count": 43,
   "id": "fd27c580-7a60-4868-8bdc-e382addbfc8d",
   "metadata": {},
   "outputs": [
    {
     "data": {
      "text/plain": [
       "84.42685728874139"
      ]
     },
     "execution_count": 43,
     "metadata": {},
     "output_type": "execute_result"
    }
   ],
   "source": [
    "percentage_passing_reading_score"
   ]
  },
  {
   "cell_type": "code",
   "execution_count": 51,
   "id": "ea1e63fe-b79c-464f-878e-69512fe71f96",
   "metadata": {},
   "outputs": [],
   "source": [
    "# % Overall Passing Score\n",
    "overall_passing_score_df = school_data_complete_df.loc[(school_data_complete_df[\"maths_score\"] >= 50)\\\n",
    "                                                        & (school_data_complete_df[\"reading_score\"] >= 50)]\n",
    "percentage_overall_passing_score = len(overall_passing_score_df)/total_students * 100"
   ]
  },
  {
   "cell_type": "code",
   "execution_count": 52,
   "id": "e5e35ef6-5e51-4220-b74a-90e3bfd8d61e",
   "metadata": {},
   "outputs": [
    {
     "data": {
      "text/plain": [
       "72.80827163645647"
      ]
     },
     "execution_count": 52,
     "metadata": {},
     "output_type": "execute_result"
    }
   ],
   "source": [
    "percentage_overall_passing_score"
   ]
  },
  {
   "cell_type": "code",
   "execution_count": 82,
   "id": "f6c4e8f1-32c4-49b0-b96c-e01a6d0915a6",
   "metadata": {},
   "outputs": [],
   "source": [
    "# Create a LGA Data summary\n",
    "LGA_summary_df = pd.DataFrame({\"Total Schools\":[total_schools],\n",
    "                               \"Total Students\":[total_students],\n",
    "                               \"Total Budget\":[total_school_budget],\n",
    "                               \"Average Maths Score\": [average_math_score],\n",
    "                               \"Average Reading Score\": [average_reading_score],\n",
    "                               \"% Passing Maths\": [percentage_passing_maths_score],\n",
    "                               \"% Passing Reading\": [percentage_passing_reading_score],\n",
    "                               \"% Overall Passing\": [percentage_overall_passing_score]})"
   ]
  },
  {
   "cell_type": "code",
   "execution_count": 83,
   "id": "c8c27aff-459d-4c04-9915-fc9f91444eaf",
   "metadata": {},
   "outputs": [
    {
     "data": {
      "text/html": [
       "<div>\n",
       "<style scoped>\n",
       "    .dataframe tbody tr th:only-of-type {\n",
       "        vertical-align: middle;\n",
       "    }\n",
       "\n",
       "    .dataframe tbody tr th {\n",
       "        vertical-align: top;\n",
       "    }\n",
       "\n",
       "    .dataframe thead th {\n",
       "        text-align: right;\n",
       "    }\n",
       "</style>\n",
       "<table border=\"1\" class=\"dataframe\">\n",
       "  <thead>\n",
       "    <tr style=\"text-align: right;\">\n",
       "      <th></th>\n",
       "      <th>Total Schools</th>\n",
       "      <th>Total Students</th>\n",
       "      <th>Total Budget</th>\n",
       "      <th>Average Maths Score</th>\n",
       "      <th>Average Reading Score</th>\n",
       "      <th>% Passing Maths</th>\n",
       "      <th>% Passing Reading</th>\n",
       "      <th>% Overall Passing</th>\n",
       "    </tr>\n",
       "  </thead>\n",
       "  <tbody>\n",
       "    <tr>\n",
       "      <th>0</th>\n",
       "      <td>15</td>\n",
       "      <td>39170</td>\n",
       "      <td>24649428</td>\n",
       "      <td>70.338192</td>\n",
       "      <td>69.980138</td>\n",
       "      <td>86.078632</td>\n",
       "      <td>84.426857</td>\n",
       "      <td>72.808272</td>\n",
       "    </tr>\n",
       "  </tbody>\n",
       "</table>\n",
       "</div>"
      ],
      "text/plain": [
       "   Total Schools  Total Students  Total Budget  Average Maths Score  \\\n",
       "0             15           39170      24649428            70.338192   \n",
       "\n",
       "   Average Reading Score  % Passing Maths  % Passing Reading  \\\n",
       "0              69.980138        86.078632          84.426857   \n",
       "\n",
       "   % Overall Passing  \n",
       "0          72.808272  "
      ]
     },
     "execution_count": 83,
     "metadata": {},
     "output_type": "execute_result"
    }
   ],
   "source": [
    "LGA_summary_df"
   ]
  },
  {
   "cell_type": "code",
   "execution_count": 85,
   "id": "b54faa01-56f6-4655-8705-a3c63c990bf2",
   "metadata": {},
   "outputs": [],
   "source": [
    "LGA_summary_df[\"Total Budget\"] = LGA_summary_df[\"Total Budget\"].map(\"${:,.2f}\".format)"
   ]
  },
  {
   "cell_type": "code",
   "execution_count": 86,
   "id": "ead4866c-2f02-485e-8d42-be2e7bf46153",
   "metadata": {},
   "outputs": [
    {
     "data": {
      "text/plain": [
       "0    $24,649,428.00\n",
       "Name: Total Budget, dtype: object"
      ]
     },
     "execution_count": 86,
     "metadata": {},
     "output_type": "execute_result"
    }
   ],
   "source": [
    "LGA_summary_df[\"Total Budget\"]"
   ]
  },
  {
   "cell_type": "code",
   "execution_count": 87,
   "id": "03bd2521-34af-4447-8181-489765911f06",
   "metadata": {},
   "outputs": [
    {
     "data": {
      "text/html": [
       "<div>\n",
       "<style scoped>\n",
       "    .dataframe tbody tr th:only-of-type {\n",
       "        vertical-align: middle;\n",
       "    }\n",
       "\n",
       "    .dataframe tbody tr th {\n",
       "        vertical-align: top;\n",
       "    }\n",
       "\n",
       "    .dataframe thead th {\n",
       "        text-align: right;\n",
       "    }\n",
       "</style>\n",
       "<table border=\"1\" class=\"dataframe\">\n",
       "  <thead>\n",
       "    <tr style=\"text-align: right;\">\n",
       "      <th></th>\n",
       "      <th>Total Schools</th>\n",
       "      <th>Total Students</th>\n",
       "      <th>Total Budget</th>\n",
       "      <th>Average Maths Score</th>\n",
       "      <th>Average Reading Score</th>\n",
       "      <th>% Passing Maths</th>\n",
       "      <th>% Passing Reading</th>\n",
       "      <th>% Overall Passing</th>\n",
       "    </tr>\n",
       "  </thead>\n",
       "  <tbody>\n",
       "    <tr>\n",
       "      <th>0</th>\n",
       "      <td>15</td>\n",
       "      <td>39170</td>\n",
       "      <td>$24,649,428.00</td>\n",
       "      <td>70.338192</td>\n",
       "      <td>69.980138</td>\n",
       "      <td>86.078632</td>\n",
       "      <td>84.426857</td>\n",
       "      <td>72.808272</td>\n",
       "    </tr>\n",
       "  </tbody>\n",
       "</table>\n",
       "</div>"
      ],
      "text/plain": [
       "   Total Schools  Total Students    Total Budget  Average Maths Score  \\\n",
       "0             15           39170  $24,649,428.00            70.338192   \n",
       "\n",
       "   Average Reading Score  % Passing Maths  % Passing Reading  \\\n",
       "0              69.980138        86.078632          84.426857   \n",
       "\n",
       "   % Overall Passing  \n",
       "0          72.808272  "
      ]
     },
     "execution_count": 87,
     "metadata": {},
     "output_type": "execute_result"
    }
   ],
   "source": [
    "LGA_summary_df[[\"Total Schools\",\n",
    "                \"Total Students\",\n",
    "                \"Total Budget\",\n",
    "                \"Average Maths Score\",\n",
    "                \"Average Reading Score\",\n",
    "                \"% Passing Maths\",\n",
    "                \"% Passing Reading\",\n",
    "                \"% Overall Passing\"]]"
   ]
  },
  {
   "cell_type": "code",
   "execution_count": 88,
   "id": "1c99734d-b490-474c-be13-1076c3f10cbc",
   "metadata": {},
   "outputs": [],
   "source": [
    "# School summary\n",
    "# Group by School name\n",
    "school_group_df = school_data_complete_df.groupby([\"school_name\"])"
   ]
  },
  {
   "cell_type": "code",
   "execution_count": 89,
   "id": "694018a2-9a1d-480c-b06a-3fb9c812a239",
   "metadata": {},
   "outputs": [
    {
     "data": {
      "text/plain": [
       "<pandas.core.groupby.generic.DataFrameGroupBy object at 0x000001D7C097B0D0>"
      ]
     },
     "execution_count": 89,
     "metadata": {},
     "output_type": "execute_result"
    }
   ],
   "source": [
    "school_group_df"
   ]
  },
  {
   "cell_type": "code",
   "execution_count": 131,
   "id": "67aaef0d-b5ad-4929-a4a3-00cc03c80e5a",
   "metadata": {},
   "outputs": [],
   "source": [
    "# School type\n",
    "school_type = school_group_df[\"type\"].first()"
   ]
  },
  {
   "cell_type": "code",
   "execution_count": 132,
   "id": "b8fa3ee1-9b4d-4854-95b4-b7eb3574a252",
   "metadata": {},
   "outputs": [
    {
     "data": {
      "text/plain": [
       "school_name\n",
       "Bailey High School        Government\n",
       "Cabrera High School      Independent\n",
       "Figueroa High School      Government\n",
       "Ford High School          Government\n",
       "Griffin High School      Independent\n",
       "Hernandez High School     Government\n",
       "Holden High School       Independent\n",
       "Huang High School         Government\n",
       "Johnson High School       Government\n",
       "Pena High School         Independent\n",
       "Rodriguez High School     Government\n",
       "Shelton High School      Independent\n",
       "Thomas High School       Independent\n",
       "Wilson High School       Independent\n",
       "Wright High School       Independent\n",
       "Name: type, dtype: object"
      ]
     },
     "execution_count": 132,
     "metadata": {},
     "output_type": "execute_result"
    }
   ],
   "source": [
    "school_type"
   ]
  },
  {
   "cell_type": "code",
   "execution_count": 133,
   "id": "dbea22bc-4d87-406d-92c1-a1b385c1ec9d",
   "metadata": {},
   "outputs": [],
   "source": [
    "# Total Students\n",
    "total_students = school_group_df[\"student_name\"].count()"
   ]
  },
  {
   "cell_type": "code",
   "execution_count": 134,
   "id": "1a2e9ea8-ba4e-4fbf-8771-f3b7e7138425",
   "metadata": {},
   "outputs": [
    {
     "data": {
      "text/plain": [
       "school_name\n",
       "Bailey High School       4976\n",
       "Cabrera High School      1858\n",
       "Figueroa High School     2949\n",
       "Ford High School         2739\n",
       "Griffin High School      1468\n",
       "Hernandez High School    4635\n",
       "Holden High School        427\n",
       "Huang High School        2917\n",
       "Johnson High School      4761\n",
       "Pena High School          962\n",
       "Rodriguez High School    3999\n",
       "Shelton High School      1761\n",
       "Thomas High School       1635\n",
       "Wilson High School       2283\n",
       "Wright High School       1800\n",
       "Name: student_name, dtype: int64"
      ]
     },
     "execution_count": 134,
     "metadata": {},
     "output_type": "execute_result"
    }
   ],
   "source": [
    "total_students"
   ]
  },
  {
   "cell_type": "code",
   "execution_count": 96,
   "id": "24606494-309d-4a70-a9cd-326594180184",
   "metadata": {},
   "outputs": [],
   "source": [
    "# Total Students\n",
    "total_students = school_group_df[\"Student ID\"].count()"
   ]
  },
  {
   "cell_type": "code",
   "execution_count": 97,
   "id": "5875afa7-c339-4042-ba7d-3e7cbea8892a",
   "metadata": {},
   "outputs": [
    {
     "data": {
      "text/plain": [
       "school_name\n",
       "Bailey High School       4976\n",
       "Cabrera High School      1858\n",
       "Figueroa High School     2949\n",
       "Ford High School         2739\n",
       "Griffin High School      1468\n",
       "Hernandez High School    4635\n",
       "Holden High School        427\n",
       "Huang High School        2917\n",
       "Johnson High School      4761\n",
       "Pena High School          962\n",
       "Rodriguez High School    3999\n",
       "Shelton High School      1761\n",
       "Thomas High School       1635\n",
       "Wilson High School       2283\n",
       "Wright High School       1800\n",
       "Name: Student ID, dtype: int64"
      ]
     },
     "execution_count": 97,
     "metadata": {},
     "output_type": "execute_result"
    }
   ],
   "source": [
    "total_students"
   ]
  },
  {
   "cell_type": "code",
   "execution_count": 139,
   "id": "ca05e97e-8c8f-4b0e-9c40-648fc586a3f8",
   "metadata": {},
   "outputs": [],
   "source": [
    "# Total School budget\n",
    "total_budget = school_group_df[\"budget\"].first()"
   ]
  },
  {
   "cell_type": "code",
   "execution_count": 140,
   "id": "1d77b21f-8bc5-4cac-8e43-5c7c8d2edc80",
   "metadata": {},
   "outputs": [
    {
     "data": {
      "text/plain": [
       "school_name\n",
       "Bailey High School       3124928\n",
       "Cabrera High School      1081356\n",
       "Figueroa High School     1884411\n",
       "Ford High School         1763916\n",
       "Griffin High School       917500\n",
       "Hernandez High School    3022020\n",
       "Holden High School        248087\n",
       "Huang High School        1910635\n",
       "Johnson High School      3094650\n",
       "Pena High School          585858\n",
       "Rodriguez High School    2547363\n",
       "Shelton High School      1056600\n",
       "Thomas High School       1043130\n",
       "Wilson High School       1319574\n",
       "Wright High School       1049400\n",
       "Name: budget, dtype: int64"
      ]
     },
     "execution_count": 140,
     "metadata": {},
     "output_type": "execute_result"
    }
   ],
   "source": [
    "total_budget"
   ]
  },
  {
   "cell_type": "code",
   "execution_count": 141,
   "id": "36ab9dcd-9c7c-4888-beec-2a3c38d10642",
   "metadata": {},
   "outputs": [],
   "source": [
    "# Budget per student\n",
    "budget_per_student = total_budget/total_students"
   ]
  },
  {
   "cell_type": "code",
   "execution_count": 142,
   "id": "856e86cf-6d2b-408b-b792-69198915aa14",
   "metadata": {},
   "outputs": [
    {
     "data": {
      "text/plain": [
       "school_name\n",
       "Bailey High School       628.0\n",
       "Cabrera High School      582.0\n",
       "Figueroa High School     639.0\n",
       "Ford High School         644.0\n",
       "Griffin High School      625.0\n",
       "Hernandez High School    652.0\n",
       "Holden High School       581.0\n",
       "Huang High School        655.0\n",
       "Johnson High School      650.0\n",
       "Pena High School         609.0\n",
       "Rodriguez High School    637.0\n",
       "Shelton High School      600.0\n",
       "Thomas High School       638.0\n",
       "Wilson High School       578.0\n",
       "Wright High School       583.0\n",
       "dtype: float64"
      ]
     },
     "execution_count": 142,
     "metadata": {},
     "output_type": "execute_result"
    }
   ],
   "source": [
    "budget_per_student"
   ]
  },
  {
   "cell_type": "code",
   "execution_count": 143,
   "id": "a26b3f76-211a-4aef-baf6-de965dc757db",
   "metadata": {},
   "outputs": [],
   "source": [
    "# Average maths score\n",
    "Average_maths_score = school_group_df[\"maths_score\"].mean()"
   ]
  },
  {
   "cell_type": "code",
   "execution_count": 144,
   "id": "bd5ea1a1-6599-458b-a335-ffb0653b408d",
   "metadata": {},
   "outputs": [
    {
     "data": {
      "text/plain": [
       "school_name\n",
       "Bailey High School       72.352894\n",
       "Cabrera High School      71.657158\n",
       "Figueroa High School     68.698542\n",
       "Ford High School         69.091274\n",
       "Griffin High School      71.788147\n",
       "Hernandez High School    68.874865\n",
       "Holden High School       72.583138\n",
       "Huang High School        68.935207\n",
       "Johnson High School      68.843100\n",
       "Pena High School         72.088358\n",
       "Rodriguez High School    72.047762\n",
       "Shelton High School      72.034072\n",
       "Thomas High School       69.581651\n",
       "Wilson High School       69.170828\n",
       "Wright High School       72.047222\n",
       "Name: maths_score, dtype: float64"
      ]
     },
     "execution_count": 144,
     "metadata": {},
     "output_type": "execute_result"
    }
   ],
   "source": [
    "Average_maths_score"
   ]
  },
  {
   "cell_type": "code",
   "execution_count": 145,
   "id": "f789d7c8-6146-4469-9471-47b4f774ffe3",
   "metadata": {},
   "outputs": [],
   "source": [
    "# Average reading score\n",
    "Average_reading_score = school_group_df[\"reading_score\"].mean()"
   ]
  },
  {
   "cell_type": "code",
   "execution_count": 146,
   "id": "9956e737-afb2-4d69-b2ca-f4a7ca018015",
   "metadata": {},
   "outputs": [
    {
     "data": {
      "text/plain": [
       "school_name\n",
       "Bailey High School       71.008842\n",
       "Cabrera High School      71.359526\n",
       "Figueroa High School     69.077993\n",
       "Ford High School         69.572472\n",
       "Griffin High School      71.245232\n",
       "Hernandez High School    69.186408\n",
       "Holden High School       71.660422\n",
       "Huang High School        68.910525\n",
       "Johnson High School      69.039277\n",
       "Pena High School         71.613306\n",
       "Rodriguez High School    70.935984\n",
       "Shelton High School      70.257808\n",
       "Thomas High School       69.768807\n",
       "Wilson High School       68.876916\n",
       "Wright High School       70.969444\n",
       "Name: reading_score, dtype: float64"
      ]
     },
     "execution_count": 146,
     "metadata": {},
     "output_type": "execute_result"
    }
   ],
   "source": [
    "Average_reading_score"
   ]
  },
  {
   "cell_type": "code",
   "execution_count": 147,
   "id": "cbc11e2a-663b-40ed-a41f-b31384482a35",
   "metadata": {},
   "outputs": [],
   "source": [
    "# % passing math\n",
    "passing_math = school_data_complete_df[school_data_complete_df[\"maths_score\"] >= 50].groupby([\"school_name\"])\\\n",
    "                                                                                                      [\"maths_score\"].count()\n",
    "percentage_passing_math = (passing_math/total_students) * 100"
   ]
  },
  {
   "cell_type": "code",
   "execution_count": 148,
   "id": "42d9c078-a306-4d8e-9705-13d0152dcf7d",
   "metadata": {},
   "outputs": [
    {
     "data": {
      "text/plain": [
       "school_name\n",
       "Bailey High School       91.639871\n",
       "Cabrera High School      90.850377\n",
       "Figueroa High School     81.654798\n",
       "Ford High School         82.438846\n",
       "Griffin High School      91.212534\n",
       "Hernandez High School    80.949299\n",
       "Holden High School       89.929742\n",
       "Huang High School        81.693521\n",
       "Johnson High School      82.062592\n",
       "Pena High School         91.683992\n",
       "Rodriguez High School    90.797699\n",
       "Shelton High School      91.538898\n",
       "Thomas High School       83.853211\n",
       "Wilson High School       82.785808\n",
       "Wright High School       91.777778\n",
       "dtype: float64"
      ]
     },
     "execution_count": 148,
     "metadata": {},
     "output_type": "execute_result"
    }
   ],
   "source": [
    "percentage_passing_math"
   ]
  },
  {
   "cell_type": "code",
   "execution_count": 149,
   "id": "0c0711aa-14b9-4b59-9786-b646e622710b",
   "metadata": {},
   "outputs": [],
   "source": [
    "# % passing Reading\n",
    "passing_reading = school_data_complete_df[school_data_complete_df[\"reading_score\"] >= 50].groupby([\"school_name\"])\\\n",
    "                                                                                                      [\"reading_score\"].count()\n",
    "percentage_passing_reading = (passing_reading/total_students) * 100"
   ]
  },
  {
   "cell_type": "code",
   "execution_count": 150,
   "id": "5d6efe53-0f7d-4b02-9b50-e8b3e7c78b41",
   "metadata": {},
   "outputs": [
    {
     "data": {
      "text/plain": [
       "school_name\n",
       "Bailey High School       87.379421\n",
       "Cabrera High School      89.074273\n",
       "Figueroa High School     82.807731\n",
       "Ford High School         82.219788\n",
       "Griffin High School      88.487738\n",
       "Hernandez High School    81.877023\n",
       "Holden High School       88.524590\n",
       "Huang High School        81.453548\n",
       "Johnson High School      81.978576\n",
       "Pena High School         86.590437\n",
       "Rodriguez High School    87.396849\n",
       "Shelton High School      86.712095\n",
       "Thomas High School       82.629969\n",
       "Wilson High School       81.296540\n",
       "Wright High School       86.666667\n",
       "dtype: float64"
      ]
     },
     "execution_count": 150,
     "metadata": {},
     "output_type": "execute_result"
    }
   ],
   "source": [
    "percentage_passing_reading"
   ]
  },
  {
   "cell_type": "code",
   "execution_count": 151,
   "id": "e0bbd71c-02b4-4cfe-b037-a6d30dd692af",
   "metadata": {},
   "outputs": [],
   "source": [
    "# % Overall passing\n",
    "overall_passing = school_data_complete_df[(school_data_complete_df[\"maths_score\"] >= 50)\\\n",
    "                                                        & (school_data_complete_df[\"reading_score\"] >= 50)]\\\n",
    "                                                        .groupby([\"school_name\"])[\"Student ID\"].count()\n",
    "Percentage_overall_passing = (overall_passing/total_students) * 100"
   ]
  },
  {
   "cell_type": "code",
   "execution_count": 152,
   "id": "5105b338-7048-463e-a4af-be56536d9e26",
   "metadata": {},
   "outputs": [
    {
     "data": {
      "text/plain": [
       "school_name\n",
       "Bailey High School       80.084405\n",
       "Cabrera High School      80.785791\n",
       "Figueroa High School     67.650051\n",
       "Ford High School         67.469880\n",
       "Griffin High School      81.335150\n",
       "Hernandez High School    66.364617\n",
       "Holden High School       78.922717\n",
       "Huang High School        66.712376\n",
       "Johnson High School      67.191766\n",
       "Pena High School         79.209979\n",
       "Rodriguez High School    79.419855\n",
       "Shelton High School      78.875639\n",
       "Thomas High School       69.480122\n",
       "Wilson High School       67.455103\n",
       "Wright High School       79.722222\n",
       "dtype: float64"
      ]
     },
     "execution_count": 152,
     "metadata": {},
     "output_type": "execute_result"
    }
   ],
   "source": [
    "Percentage_overall_passing"
   ]
  },
  {
   "cell_type": "code",
   "execution_count": 160,
   "id": "4f274e82-2169-46cd-b8b1-1509a14fd85c",
   "metadata": {},
   "outputs": [
    {
     "data": {
      "text/html": [
       "<div>\n",
       "<style scoped>\n",
       "    .dataframe tbody tr th:only-of-type {\n",
       "        vertical-align: middle;\n",
       "    }\n",
       "\n",
       "    .dataframe tbody tr th {\n",
       "        vertical-align: top;\n",
       "    }\n",
       "\n",
       "    .dataframe thead th {\n",
       "        text-align: right;\n",
       "    }\n",
       "</style>\n",
       "<table border=\"1\" class=\"dataframe\">\n",
       "  <thead>\n",
       "    <tr style=\"text-align: right;\">\n",
       "      <th></th>\n",
       "      <th>School Type</th>\n",
       "      <th>Total Students</th>\n",
       "      <th>Total School Budget</th>\n",
       "      <th>Per Student Budget</th>\n",
       "      <th>Average Maths Score</th>\n",
       "      <th>Average Reading Score</th>\n",
       "      <th>% Passing Maths</th>\n",
       "      <th>% Passing Reading</th>\n",
       "      <th>% Overall Passing</th>\n",
       "    </tr>\n",
       "  </thead>\n",
       "  <tbody>\n",
       "    <tr>\n",
       "      <th>Bailey High School</th>\n",
       "      <td>Government</td>\n",
       "      <td>4976</td>\n",
       "      <td>$3,124,928.00</td>\n",
       "      <td>$628.00</td>\n",
       "      <td>72.352894</td>\n",
       "      <td>71.008842</td>\n",
       "      <td>91.639871</td>\n",
       "      <td>87.379421</td>\n",
       "      <td>80.084405</td>\n",
       "    </tr>\n",
       "    <tr>\n",
       "      <th>Cabrera High School</th>\n",
       "      <td>Independent</td>\n",
       "      <td>1858</td>\n",
       "      <td>$1,081,356.00</td>\n",
       "      <td>$582.00</td>\n",
       "      <td>71.657158</td>\n",
       "      <td>71.359526</td>\n",
       "      <td>90.850377</td>\n",
       "      <td>89.074273</td>\n",
       "      <td>80.785791</td>\n",
       "    </tr>\n",
       "    <tr>\n",
       "      <th>Figueroa High School</th>\n",
       "      <td>Government</td>\n",
       "      <td>2949</td>\n",
       "      <td>$1,884,411.00</td>\n",
       "      <td>$639.00</td>\n",
       "      <td>68.698542</td>\n",
       "      <td>69.077993</td>\n",
       "      <td>81.654798</td>\n",
       "      <td>82.807731</td>\n",
       "      <td>67.650051</td>\n",
       "    </tr>\n",
       "    <tr>\n",
       "      <th>Ford High School</th>\n",
       "      <td>Government</td>\n",
       "      <td>2739</td>\n",
       "      <td>$1,763,916.00</td>\n",
       "      <td>$644.00</td>\n",
       "      <td>69.091274</td>\n",
       "      <td>69.572472</td>\n",
       "      <td>82.438846</td>\n",
       "      <td>82.219788</td>\n",
       "      <td>67.469880</td>\n",
       "    </tr>\n",
       "    <tr>\n",
       "      <th>Griffin High School</th>\n",
       "      <td>Independent</td>\n",
       "      <td>1468</td>\n",
       "      <td>$917,500.00</td>\n",
       "      <td>$625.00</td>\n",
       "      <td>71.788147</td>\n",
       "      <td>71.245232</td>\n",
       "      <td>91.212534</td>\n",
       "      <td>88.487738</td>\n",
       "      <td>81.335150</td>\n",
       "    </tr>\n",
       "    <tr>\n",
       "      <th>Hernandez High School</th>\n",
       "      <td>Government</td>\n",
       "      <td>4635</td>\n",
       "      <td>$3,022,020.00</td>\n",
       "      <td>$652.00</td>\n",
       "      <td>68.874865</td>\n",
       "      <td>69.186408</td>\n",
       "      <td>80.949299</td>\n",
       "      <td>81.877023</td>\n",
       "      <td>66.364617</td>\n",
       "    </tr>\n",
       "    <tr>\n",
       "      <th>Holden High School</th>\n",
       "      <td>Independent</td>\n",
       "      <td>427</td>\n",
       "      <td>$248,087.00</td>\n",
       "      <td>$581.00</td>\n",
       "      <td>72.583138</td>\n",
       "      <td>71.660422</td>\n",
       "      <td>89.929742</td>\n",
       "      <td>88.524590</td>\n",
       "      <td>78.922717</td>\n",
       "    </tr>\n",
       "    <tr>\n",
       "      <th>Huang High School</th>\n",
       "      <td>Government</td>\n",
       "      <td>2917</td>\n",
       "      <td>$1,910,635.00</td>\n",
       "      <td>$655.00</td>\n",
       "      <td>68.935207</td>\n",
       "      <td>68.910525</td>\n",
       "      <td>81.693521</td>\n",
       "      <td>81.453548</td>\n",
       "      <td>66.712376</td>\n",
       "    </tr>\n",
       "    <tr>\n",
       "      <th>Johnson High School</th>\n",
       "      <td>Government</td>\n",
       "      <td>4761</td>\n",
       "      <td>$3,094,650.00</td>\n",
       "      <td>$650.00</td>\n",
       "      <td>68.843100</td>\n",
       "      <td>69.039277</td>\n",
       "      <td>82.062592</td>\n",
       "      <td>81.978576</td>\n",
       "      <td>67.191766</td>\n",
       "    </tr>\n",
       "    <tr>\n",
       "      <th>Pena High School</th>\n",
       "      <td>Independent</td>\n",
       "      <td>962</td>\n",
       "      <td>$585,858.00</td>\n",
       "      <td>$609.00</td>\n",
       "      <td>72.088358</td>\n",
       "      <td>71.613306</td>\n",
       "      <td>91.683992</td>\n",
       "      <td>86.590437</td>\n",
       "      <td>79.209979</td>\n",
       "    </tr>\n",
       "    <tr>\n",
       "      <th>Rodriguez High School</th>\n",
       "      <td>Government</td>\n",
       "      <td>3999</td>\n",
       "      <td>$2,547,363.00</td>\n",
       "      <td>$637.00</td>\n",
       "      <td>72.047762</td>\n",
       "      <td>70.935984</td>\n",
       "      <td>90.797699</td>\n",
       "      <td>87.396849</td>\n",
       "      <td>79.419855</td>\n",
       "    </tr>\n",
       "    <tr>\n",
       "      <th>Shelton High School</th>\n",
       "      <td>Independent</td>\n",
       "      <td>1761</td>\n",
       "      <td>$1,056,600.00</td>\n",
       "      <td>$600.00</td>\n",
       "      <td>72.034072</td>\n",
       "      <td>70.257808</td>\n",
       "      <td>91.538898</td>\n",
       "      <td>86.712095</td>\n",
       "      <td>78.875639</td>\n",
       "    </tr>\n",
       "    <tr>\n",
       "      <th>Thomas High School</th>\n",
       "      <td>Independent</td>\n",
       "      <td>1635</td>\n",
       "      <td>$1,043,130.00</td>\n",
       "      <td>$638.00</td>\n",
       "      <td>69.581651</td>\n",
       "      <td>69.768807</td>\n",
       "      <td>83.853211</td>\n",
       "      <td>82.629969</td>\n",
       "      <td>69.480122</td>\n",
       "    </tr>\n",
       "    <tr>\n",
       "      <th>Wilson High School</th>\n",
       "      <td>Independent</td>\n",
       "      <td>2283</td>\n",
       "      <td>$1,319,574.00</td>\n",
       "      <td>$578.00</td>\n",
       "      <td>69.170828</td>\n",
       "      <td>68.876916</td>\n",
       "      <td>82.785808</td>\n",
       "      <td>81.296540</td>\n",
       "      <td>67.455103</td>\n",
       "    </tr>\n",
       "    <tr>\n",
       "      <th>Wright High School</th>\n",
       "      <td>Independent</td>\n",
       "      <td>1800</td>\n",
       "      <td>$1,049,400.00</td>\n",
       "      <td>$583.00</td>\n",
       "      <td>72.047222</td>\n",
       "      <td>70.969444</td>\n",
       "      <td>91.777778</td>\n",
       "      <td>86.666667</td>\n",
       "      <td>79.722222</td>\n",
       "    </tr>\n",
       "  </tbody>\n",
       "</table>\n",
       "</div>"
      ],
      "text/plain": [
       "                       School Type  Total Students Total School Budget  \\\n",
       "Bailey High School      Government            4976       $3,124,928.00   \n",
       "Cabrera High School    Independent            1858       $1,081,356.00   \n",
       "Figueroa High School    Government            2949       $1,884,411.00   \n",
       "Ford High School        Government            2739       $1,763,916.00   \n",
       "Griffin High School    Independent            1468         $917,500.00   \n",
       "Hernandez High School   Government            4635       $3,022,020.00   \n",
       "Holden High School     Independent             427         $248,087.00   \n",
       "Huang High School       Government            2917       $1,910,635.00   \n",
       "Johnson High School     Government            4761       $3,094,650.00   \n",
       "Pena High School       Independent             962         $585,858.00   \n",
       "Rodriguez High School   Government            3999       $2,547,363.00   \n",
       "Shelton High School    Independent            1761       $1,056,600.00   \n",
       "Thomas High School     Independent            1635       $1,043,130.00   \n",
       "Wilson High School     Independent            2283       $1,319,574.00   \n",
       "Wright High School     Independent            1800       $1,049,400.00   \n",
       "\n",
       "                      Per Student Budget  Average Maths Score  \\\n",
       "Bailey High School               $628.00            72.352894   \n",
       "Cabrera High School              $582.00            71.657158   \n",
       "Figueroa High School             $639.00            68.698542   \n",
       "Ford High School                 $644.00            69.091274   \n",
       "Griffin High School              $625.00            71.788147   \n",
       "Hernandez High School            $652.00            68.874865   \n",
       "Holden High School               $581.00            72.583138   \n",
       "Huang High School                $655.00            68.935207   \n",
       "Johnson High School              $650.00            68.843100   \n",
       "Pena High School                 $609.00            72.088358   \n",
       "Rodriguez High School            $637.00            72.047762   \n",
       "Shelton High School              $600.00            72.034072   \n",
       "Thomas High School               $638.00            69.581651   \n",
       "Wilson High School               $578.00            69.170828   \n",
       "Wright High School               $583.00            72.047222   \n",
       "\n",
       "                       Average Reading Score  % Passing Maths  \\\n",
       "Bailey High School                 71.008842        91.639871   \n",
       "Cabrera High School                71.359526        90.850377   \n",
       "Figueroa High School               69.077993        81.654798   \n",
       "Ford High School                   69.572472        82.438846   \n",
       "Griffin High School                71.245232        91.212534   \n",
       "Hernandez High School              69.186408        80.949299   \n",
       "Holden High School                 71.660422        89.929742   \n",
       "Huang High School                  68.910525        81.693521   \n",
       "Johnson High School                69.039277        82.062592   \n",
       "Pena High School                   71.613306        91.683992   \n",
       "Rodriguez High School              70.935984        90.797699   \n",
       "Shelton High School                70.257808        91.538898   \n",
       "Thomas High School                 69.768807        83.853211   \n",
       "Wilson High School                 68.876916        82.785808   \n",
       "Wright High School                 70.969444        91.777778   \n",
       "\n",
       "                       % Passing Reading  % Overall Passing  \n",
       "Bailey High School             87.379421          80.084405  \n",
       "Cabrera High School            89.074273          80.785791  \n",
       "Figueroa High School           82.807731          67.650051  \n",
       "Ford High School               82.219788          67.469880  \n",
       "Griffin High School            88.487738          81.335150  \n",
       "Hernandez High School          81.877023          66.364617  \n",
       "Holden High School             88.524590          78.922717  \n",
       "Huang High School              81.453548          66.712376  \n",
       "Johnson High School            81.978576          67.191766  \n",
       "Pena High School               86.590437          79.209979  \n",
       "Rodriguez High School          87.396849          79.419855  \n",
       "Shelton High School            86.712095          78.875639  \n",
       "Thomas High School             82.629969          69.480122  \n",
       "Wilson High School             81.296540          67.455103  \n",
       "Wright High School             86.666667          79.722222  "
      ]
     },
     "execution_count": 160,
     "metadata": {},
     "output_type": "execute_result"
    }
   ],
   "source": [
    "# Create school summary\n",
    "school_summary_df = pd.DataFrame ({\"School Type\": school_type,\n",
    "                                   \"Total Students\": total_students,\n",
    "                                   \"Total School Budget\": total_budget,\n",
    "                                   \"Per Student Budget\" : budget_per_student,\n",
    "                                   \"Average Maths Score\": Average_maths_score,\n",
    "                                   \"Average Reading Score\": Average_reading_score,\n",
    "                                   \"% Passing Maths\": percentage_passing_math,\n",
    "                                   \"% Passing Reading\": percentage_passing_reading,\n",
    "                                   \"% Overall Passing\": Percentage_overall_passing })\n",
    "# Changing the format\n",
    "school_summary_df[\"Total School Budget\"] = school_summary_df[\"Total School Budget\"].map(\"${:,.2f}\".format)\n",
    "school_summary_df[\"Per Student Budget\"] = school_summary_df[\"Per Student Budget\"].map(\"${:,.2f}\".format)\n",
    "\n",
    "\n",
    "school_summary_df[[\"School Type\",\n",
    "      \"Total Students\",\n",
    "      \"Total School Budget\",\n",
    "      \"Per Student Budget\",\n",
    "      \"Average Maths Score\",\n",
    "      \"Average Reading Score\",\n",
    "      \"% Passing Maths\",\n",
    "      \"% Passing Reading\",\n",
    "      \"% Overall Passing\"]]                                                                                    "
   ]
  },
  {
   "cell_type": "code",
   "execution_count": 161,
   "id": "e6933691-a9e4-4804-99b6-dfba07102c1c",
   "metadata": {},
   "outputs": [
    {
     "data": {
      "text/html": [
       "<div>\n",
       "<style scoped>\n",
       "    .dataframe tbody tr th:only-of-type {\n",
       "        vertical-align: middle;\n",
       "    }\n",
       "\n",
       "    .dataframe tbody tr th {\n",
       "        vertical-align: top;\n",
       "    }\n",
       "\n",
       "    .dataframe thead th {\n",
       "        text-align: right;\n",
       "    }\n",
       "</style>\n",
       "<table border=\"1\" class=\"dataframe\">\n",
       "  <thead>\n",
       "    <tr style=\"text-align: right;\">\n",
       "      <th></th>\n",
       "      <th>School Type</th>\n",
       "      <th>Total Students</th>\n",
       "      <th>Total School Budget</th>\n",
       "      <th>Per Student Budget</th>\n",
       "      <th>Average Maths Score</th>\n",
       "      <th>Average Reading Score</th>\n",
       "      <th>% Passing Maths</th>\n",
       "      <th>% Passing Reading</th>\n",
       "      <th>% Overall Passing</th>\n",
       "    </tr>\n",
       "  </thead>\n",
       "  <tbody>\n",
       "    <tr>\n",
       "      <th>Griffin High School</th>\n",
       "      <td>Independent</td>\n",
       "      <td>1468</td>\n",
       "      <td>$917,500.00</td>\n",
       "      <td>$625.00</td>\n",
       "      <td>71.788147</td>\n",
       "      <td>71.245232</td>\n",
       "      <td>91.212534</td>\n",
       "      <td>88.487738</td>\n",
       "      <td>81.335150</td>\n",
       "    </tr>\n",
       "    <tr>\n",
       "      <th>Cabrera High School</th>\n",
       "      <td>Independent</td>\n",
       "      <td>1858</td>\n",
       "      <td>$1,081,356.00</td>\n",
       "      <td>$582.00</td>\n",
       "      <td>71.657158</td>\n",
       "      <td>71.359526</td>\n",
       "      <td>90.850377</td>\n",
       "      <td>89.074273</td>\n",
       "      <td>80.785791</td>\n",
       "    </tr>\n",
       "    <tr>\n",
       "      <th>Bailey High School</th>\n",
       "      <td>Government</td>\n",
       "      <td>4976</td>\n",
       "      <td>$3,124,928.00</td>\n",
       "      <td>$628.00</td>\n",
       "      <td>72.352894</td>\n",
       "      <td>71.008842</td>\n",
       "      <td>91.639871</td>\n",
       "      <td>87.379421</td>\n",
       "      <td>80.084405</td>\n",
       "    </tr>\n",
       "    <tr>\n",
       "      <th>Wright High School</th>\n",
       "      <td>Independent</td>\n",
       "      <td>1800</td>\n",
       "      <td>$1,049,400.00</td>\n",
       "      <td>$583.00</td>\n",
       "      <td>72.047222</td>\n",
       "      <td>70.969444</td>\n",
       "      <td>91.777778</td>\n",
       "      <td>86.666667</td>\n",
       "      <td>79.722222</td>\n",
       "    </tr>\n",
       "    <tr>\n",
       "      <th>Rodriguez High School</th>\n",
       "      <td>Government</td>\n",
       "      <td>3999</td>\n",
       "      <td>$2,547,363.00</td>\n",
       "      <td>$637.00</td>\n",
       "      <td>72.047762</td>\n",
       "      <td>70.935984</td>\n",
       "      <td>90.797699</td>\n",
       "      <td>87.396849</td>\n",
       "      <td>79.419855</td>\n",
       "    </tr>\n",
       "  </tbody>\n",
       "</table>\n",
       "</div>"
      ],
      "text/plain": [
       "                       School Type  Total Students Total School Budget  \\\n",
       "Griffin High School    Independent            1468         $917,500.00   \n",
       "Cabrera High School    Independent            1858       $1,081,356.00   \n",
       "Bailey High School      Government            4976       $3,124,928.00   \n",
       "Wright High School     Independent            1800       $1,049,400.00   \n",
       "Rodriguez High School   Government            3999       $2,547,363.00   \n",
       "\n",
       "                      Per Student Budget  Average Maths Score  \\\n",
       "Griffin High School              $625.00            71.788147   \n",
       "Cabrera High School              $582.00            71.657158   \n",
       "Bailey High School               $628.00            72.352894   \n",
       "Wright High School               $583.00            72.047222   \n",
       "Rodriguez High School            $637.00            72.047762   \n",
       "\n",
       "                       Average Reading Score  % Passing Maths  \\\n",
       "Griffin High School                71.245232        91.212534   \n",
       "Cabrera High School                71.359526        90.850377   \n",
       "Bailey High School                 71.008842        91.639871   \n",
       "Wright High School                 70.969444        91.777778   \n",
       "Rodriguez High School              70.935984        90.797699   \n",
       "\n",
       "                       % Passing Reading  % Overall Passing  \n",
       "Griffin High School            88.487738          81.335150  \n",
       "Cabrera High School            89.074273          80.785791  \n",
       "Bailey High School             87.379421          80.084405  \n",
       "Wright High School             86.666667          79.722222  \n",
       "Rodriguez High School          87.396849          79.419855  "
      ]
     },
     "execution_count": 161,
     "metadata": {},
     "output_type": "execute_result"
    }
   ],
   "source": [
    "# Top Performing Schools (By % Overall Passing)\n",
    "top_performing_schools_df = school_summary_df.sort_values(\"% Overall Passing\", ascending = False)\n",
    "top_performing_schools_df.head(5)"
   ]
  },
  {
   "cell_type": "code",
   "execution_count": 163,
   "id": "79ddb6da-9543-4205-8bb6-ae111f4e8d64",
   "metadata": {},
   "outputs": [
    {
     "data": {
      "text/html": [
       "<div>\n",
       "<style scoped>\n",
       "    .dataframe tbody tr th:only-of-type {\n",
       "        vertical-align: middle;\n",
       "    }\n",
       "\n",
       "    .dataframe tbody tr th {\n",
       "        vertical-align: top;\n",
       "    }\n",
       "\n",
       "    .dataframe thead th {\n",
       "        text-align: right;\n",
       "    }\n",
       "</style>\n",
       "<table border=\"1\" class=\"dataframe\">\n",
       "  <thead>\n",
       "    <tr style=\"text-align: right;\">\n",
       "      <th></th>\n",
       "      <th>School Type</th>\n",
       "      <th>Total Students</th>\n",
       "      <th>Total School Budget</th>\n",
       "      <th>Per Student Budget</th>\n",
       "      <th>Average Maths Score</th>\n",
       "      <th>Average Reading Score</th>\n",
       "      <th>% Passing Maths</th>\n",
       "      <th>% Passing Reading</th>\n",
       "      <th>% Overall Passing</th>\n",
       "    </tr>\n",
       "  </thead>\n",
       "  <tbody>\n",
       "    <tr>\n",
       "      <th>Hernandez High School</th>\n",
       "      <td>Government</td>\n",
       "      <td>4635</td>\n",
       "      <td>$3,022,020.00</td>\n",
       "      <td>$652.00</td>\n",
       "      <td>68.874865</td>\n",
       "      <td>69.186408</td>\n",
       "      <td>80.949299</td>\n",
       "      <td>81.877023</td>\n",
       "      <td>66.364617</td>\n",
       "    </tr>\n",
       "    <tr>\n",
       "      <th>Huang High School</th>\n",
       "      <td>Government</td>\n",
       "      <td>2917</td>\n",
       "      <td>$1,910,635.00</td>\n",
       "      <td>$655.00</td>\n",
       "      <td>68.935207</td>\n",
       "      <td>68.910525</td>\n",
       "      <td>81.693521</td>\n",
       "      <td>81.453548</td>\n",
       "      <td>66.712376</td>\n",
       "    </tr>\n",
       "    <tr>\n",
       "      <th>Johnson High School</th>\n",
       "      <td>Government</td>\n",
       "      <td>4761</td>\n",
       "      <td>$3,094,650.00</td>\n",
       "      <td>$650.00</td>\n",
       "      <td>68.843100</td>\n",
       "      <td>69.039277</td>\n",
       "      <td>82.062592</td>\n",
       "      <td>81.978576</td>\n",
       "      <td>67.191766</td>\n",
       "    </tr>\n",
       "    <tr>\n",
       "      <th>Wilson High School</th>\n",
       "      <td>Independent</td>\n",
       "      <td>2283</td>\n",
       "      <td>$1,319,574.00</td>\n",
       "      <td>$578.00</td>\n",
       "      <td>69.170828</td>\n",
       "      <td>68.876916</td>\n",
       "      <td>82.785808</td>\n",
       "      <td>81.296540</td>\n",
       "      <td>67.455103</td>\n",
       "    </tr>\n",
       "    <tr>\n",
       "      <th>Ford High School</th>\n",
       "      <td>Government</td>\n",
       "      <td>2739</td>\n",
       "      <td>$1,763,916.00</td>\n",
       "      <td>$644.00</td>\n",
       "      <td>69.091274</td>\n",
       "      <td>69.572472</td>\n",
       "      <td>82.438846</td>\n",
       "      <td>82.219788</td>\n",
       "      <td>67.469880</td>\n",
       "    </tr>\n",
       "  </tbody>\n",
       "</table>\n",
       "</div>"
      ],
      "text/plain": [
       "                       School Type  Total Students Total School Budget  \\\n",
       "Hernandez High School   Government            4635       $3,022,020.00   \n",
       "Huang High School       Government            2917       $1,910,635.00   \n",
       "Johnson High School     Government            4761       $3,094,650.00   \n",
       "Wilson High School     Independent            2283       $1,319,574.00   \n",
       "Ford High School        Government            2739       $1,763,916.00   \n",
       "\n",
       "                      Per Student Budget  Average Maths Score  \\\n",
       "Hernandez High School            $652.00            68.874865   \n",
       "Huang High School                $655.00            68.935207   \n",
       "Johnson High School              $650.00            68.843100   \n",
       "Wilson High School               $578.00            69.170828   \n",
       "Ford High School                 $644.00            69.091274   \n",
       "\n",
       "                       Average Reading Score  % Passing Maths  \\\n",
       "Hernandez High School              69.186408        80.949299   \n",
       "Huang High School                  68.910525        81.693521   \n",
       "Johnson High School                69.039277        82.062592   \n",
       "Wilson High School                 68.876916        82.785808   \n",
       "Ford High School                   69.572472        82.438846   \n",
       "\n",
       "                       % Passing Reading  % Overall Passing  \n",
       "Hernandez High School          81.877023          66.364617  \n",
       "Huang High School              81.453548          66.712376  \n",
       "Johnson High School            81.978576          67.191766  \n",
       "Wilson High School             81.296540          67.455103  \n",
       "Ford High School               82.219788          67.469880  "
      ]
     },
     "execution_count": 163,
     "metadata": {},
     "output_type": "execute_result"
    }
   ],
   "source": [
    "# Bottom Performing Schools (By % Overall Passing)\n",
    "bottom_performing_schools_df = school_summary_df.sort_values(\"% Overall Passing\")\n",
    "bottom_performing_schools_df.head()"
   ]
  },
  {
   "cell_type": "code",
   "execution_count": 170,
   "id": "15818466-286d-4aa7-88f5-051d9bd9a651",
   "metadata": {},
   "outputs": [],
   "source": [
    "# Maths Scores by Year\n",
    "average_ms_9th_df = school_data_complete_df[school_data_complete_df[\"year\"]==9].groupby([\"school_name\"])\\\n",
    "                    [\"maths_score\"].mean()\n",
    "average_ms_10th_df = school_data_complete_df[school_data_complete_df[\"year\"]==10].groupby([\"school_name\"])\\\n",
    "                    [\"maths_score\"].mean()\n",
    "average_ms_11th_df = school_data_complete_df[school_data_complete_df[\"year\"]==11].groupby([\"school_name\"])\\\n",
    "                    [\"maths_score\"].mean()\n",
    "average_ms_12th_df = school_data_complete_df[school_data_complete_df[\"year\"]==12].groupby([\"school_name\"])\\\n",
    "                    [\"maths_score\"].mean()"
   ]
  },
  {
   "cell_type": "code",
   "execution_count": 171,
   "id": "4256538a-ab0d-420a-b1e4-ab52139c1f57",
   "metadata": {},
   "outputs": [
    {
     "data": {
      "text/plain": [
       "school_name\n",
       "Bailey High School       72.493827\n",
       "Cabrera High School      72.321970\n",
       "Figueroa High School     68.477804\n",
       "Ford High School         69.021609\n",
       "Griffin High School      72.789731\n",
       "Hernandez High School    68.586831\n",
       "Holden High School       70.543307\n",
       "Huang High School        69.081754\n",
       "Johnson High School      69.469286\n",
       "Pena High School         71.996364\n",
       "Rodriguez High School    71.940722\n",
       "Shelton High School      72.932075\n",
       "Thomas High School       69.234273\n",
       "Wilson High School       69.212361\n",
       "Wright High School       71.741176\n",
       "Name: maths_score, dtype: float64"
      ]
     },
     "execution_count": 171,
     "metadata": {},
     "output_type": "execute_result"
    }
   ],
   "source": [
    "average_ms_9th_df"
   ]
  },
  {
   "cell_type": "code",
   "execution_count": 172,
   "id": "e2512295-1a15-4068-948b-3d42981aa8e4",
   "metadata": {},
   "outputs": [],
   "source": [
    "maths_score_by_year = pd.DataFrame ({\"Year 9\":average_ms_9th_df,\n",
    "                                   \"Year 10\":average_ms_10th_df,\n",
    "                                     \"Year 11\":average_ms_11th_df,\n",
    "                                     \"Year 12\": average_ms_12th_df})"
   ]
  },
  {
   "cell_type": "code",
   "execution_count": 173,
   "id": "9594e35e-d1a7-4eca-9e99-599fafc820a9",
   "metadata": {},
   "outputs": [
    {
     "data": {
      "text/html": [
       "<div>\n",
       "<style scoped>\n",
       "    .dataframe tbody tr th:only-of-type {\n",
       "        vertical-align: middle;\n",
       "    }\n",
       "\n",
       "    .dataframe tbody tr th {\n",
       "        vertical-align: top;\n",
       "    }\n",
       "\n",
       "    .dataframe thead th {\n",
       "        text-align: right;\n",
       "    }\n",
       "</style>\n",
       "<table border=\"1\" class=\"dataframe\">\n",
       "  <thead>\n",
       "    <tr style=\"text-align: right;\">\n",
       "      <th></th>\n",
       "      <th>Year 9</th>\n",
       "      <th>Year 10</th>\n",
       "      <th>Year 11</th>\n",
       "      <th>Year 12</th>\n",
       "    </tr>\n",
       "    <tr>\n",
       "      <th>school_name</th>\n",
       "      <th></th>\n",
       "      <th></th>\n",
       "      <th></th>\n",
       "      <th></th>\n",
       "    </tr>\n",
       "  </thead>\n",
       "  <tbody>\n",
       "    <tr>\n",
       "      <th>Bailey High School</th>\n",
       "      <td>72.493827</td>\n",
       "      <td>71.897498</td>\n",
       "      <td>72.374900</td>\n",
       "      <td>72.675097</td>\n",
       "    </tr>\n",
       "    <tr>\n",
       "      <th>Cabrera High School</th>\n",
       "      <td>72.321970</td>\n",
       "      <td>72.437768</td>\n",
       "      <td>71.008299</td>\n",
       "      <td>70.604712</td>\n",
       "    </tr>\n",
       "    <tr>\n",
       "      <th>Figueroa High School</th>\n",
       "      <td>68.477804</td>\n",
       "      <td>68.331586</td>\n",
       "      <td>68.811001</td>\n",
       "      <td>69.325282</td>\n",
       "    </tr>\n",
       "    <tr>\n",
       "      <th>Ford High School</th>\n",
       "      <td>69.021609</td>\n",
       "      <td>69.387006</td>\n",
       "      <td>69.248862</td>\n",
       "      <td>68.617811</td>\n",
       "    </tr>\n",
       "    <tr>\n",
       "      <th>Griffin High School</th>\n",
       "      <td>72.789731</td>\n",
       "      <td>71.093596</td>\n",
       "      <td>71.692521</td>\n",
       "      <td>71.469178</td>\n",
       "    </tr>\n",
       "    <tr>\n",
       "      <th>Hernandez High School</th>\n",
       "      <td>68.586831</td>\n",
       "      <td>68.867156</td>\n",
       "      <td>69.154412</td>\n",
       "      <td>68.985075</td>\n",
       "    </tr>\n",
       "    <tr>\n",
       "      <th>Holden High School</th>\n",
       "      <td>70.543307</td>\n",
       "      <td>75.105263</td>\n",
       "      <td>71.640777</td>\n",
       "      <td>73.409639</td>\n",
       "    </tr>\n",
       "    <tr>\n",
       "      <th>Huang High School</th>\n",
       "      <td>69.081754</td>\n",
       "      <td>68.533246</td>\n",
       "      <td>69.431345</td>\n",
       "      <td>68.639316</td>\n",
       "    </tr>\n",
       "    <tr>\n",
       "      <th>Johnson High School</th>\n",
       "      <td>69.469286</td>\n",
       "      <td>67.990220</td>\n",
       "      <td>68.637730</td>\n",
       "      <td>69.287393</td>\n",
       "    </tr>\n",
       "    <tr>\n",
       "      <th>Pena High School</th>\n",
       "      <td>71.996364</td>\n",
       "      <td>72.396000</td>\n",
       "      <td>72.523438</td>\n",
       "      <td>71.187845</td>\n",
       "    </tr>\n",
       "    <tr>\n",
       "      <th>Rodriguez High School</th>\n",
       "      <td>71.940722</td>\n",
       "      <td>71.779808</td>\n",
       "      <td>72.364811</td>\n",
       "      <td>72.154626</td>\n",
       "    </tr>\n",
       "    <tr>\n",
       "      <th>Shelton High School</th>\n",
       "      <td>72.932075</td>\n",
       "      <td>72.506696</td>\n",
       "      <td>70.097087</td>\n",
       "      <td>72.331536</td>\n",
       "    </tr>\n",
       "    <tr>\n",
       "      <th>Thomas High School</th>\n",
       "      <td>69.234273</td>\n",
       "      <td>70.057007</td>\n",
       "      <td>69.657831</td>\n",
       "      <td>69.369822</td>\n",
       "    </tr>\n",
       "    <tr>\n",
       "      <th>Wilson High School</th>\n",
       "      <td>69.212361</td>\n",
       "      <td>69.455446</td>\n",
       "      <td>68.378965</td>\n",
       "      <td>69.787472</td>\n",
       "    </tr>\n",
       "    <tr>\n",
       "      <th>Wright High School</th>\n",
       "      <td>71.741176</td>\n",
       "      <td>72.179012</td>\n",
       "      <td>73.275862</td>\n",
       "      <td>70.848238</td>\n",
       "    </tr>\n",
       "  </tbody>\n",
       "</table>\n",
       "</div>"
      ],
      "text/plain": [
       "                          Year 9    Year 10    Year 11    Year 12\n",
       "school_name                                                      \n",
       "Bailey High School     72.493827  71.897498  72.374900  72.675097\n",
       "Cabrera High School    72.321970  72.437768  71.008299  70.604712\n",
       "Figueroa High School   68.477804  68.331586  68.811001  69.325282\n",
       "Ford High School       69.021609  69.387006  69.248862  68.617811\n",
       "Griffin High School    72.789731  71.093596  71.692521  71.469178\n",
       "Hernandez High School  68.586831  68.867156  69.154412  68.985075\n",
       "Holden High School     70.543307  75.105263  71.640777  73.409639\n",
       "Huang High School      69.081754  68.533246  69.431345  68.639316\n",
       "Johnson High School    69.469286  67.990220  68.637730  69.287393\n",
       "Pena High School       71.996364  72.396000  72.523438  71.187845\n",
       "Rodriguez High School  71.940722  71.779808  72.364811  72.154626\n",
       "Shelton High School    72.932075  72.506696  70.097087  72.331536\n",
       "Thomas High School     69.234273  70.057007  69.657831  69.369822\n",
       "Wilson High School     69.212361  69.455446  68.378965  69.787472\n",
       "Wright High School     71.741176  72.179012  73.275862  70.848238"
      ]
     },
     "execution_count": 173,
     "metadata": {},
     "output_type": "execute_result"
    }
   ],
   "source": [
    "maths_score_by_year"
   ]
  },
  {
   "cell_type": "code",
   "execution_count": 174,
   "id": "08faa042-4248-47f4-8165-2dc3ea36c92f",
   "metadata": {},
   "outputs": [],
   "source": [
    "# Reading Score by Year\n",
    "average_reading_9th_df = school_data_complete_df[school_data_complete_df[\"year\"]==9].groupby([\"school_name\"])\\\n",
    "                    [\"reading_score\"].mean()\n",
    "average_reading_10th_df = school_data_complete_df[school_data_complete_df[\"year\"]==10].groupby([\"school_name\"])\\\n",
    "                    [\"reading_score\"].mean()\n",
    "average_reading_11th_df = school_data_complete_df[school_data_complete_df[\"year\"]==11].groupby([\"school_name\"])\\\n",
    "                    [\"reading_score\"].mean()\n",
    "average_reading_12th_df = school_data_complete_df[school_data_complete_df[\"year\"]==12].groupby([\"school_name\"])\\\n",
    "                    [\"reading_score\"].mean()"
   ]
  },
  {
   "cell_type": "code",
   "execution_count": 175,
   "id": "f3cabd55-74f8-4a01-be9b-20f343c1be24",
   "metadata": {},
   "outputs": [
    {
     "data": {
      "text/plain": [
       "school_name\n",
       "Bailey High School       70.901920\n",
       "Cabrera High School      71.172348\n",
       "Figueroa High School     70.261682\n",
       "Ford High School         69.615846\n",
       "Griffin High School      72.026895\n",
       "Hernandez High School    68.477569\n",
       "Holden High School       71.598425\n",
       "Huang High School        68.670616\n",
       "Johnson High School      68.719286\n",
       "Pena High School         70.949091\n",
       "Rodriguez High School    70.902921\n",
       "Shelton High School      70.715094\n",
       "Thomas High School       69.672451\n",
       "Wilson High School       68.683043\n",
       "Wright High School       71.823529\n",
       "Name: reading_score, dtype: float64"
      ]
     },
     "execution_count": 175,
     "metadata": {},
     "output_type": "execute_result"
    }
   ],
   "source": [
    "average_reading_9th_df"
   ]
  },
  {
   "cell_type": "code",
   "execution_count": 176,
   "id": "ac531cca-fc36-42d7-96d5-5e709f680494",
   "metadata": {},
   "outputs": [],
   "source": [
    "reading_score_by_year = pd.DataFrame ({\"Year 9\":average_reading_9th_df,\n",
    "                                   \"Year 10\":average_reading_10th_df,\n",
    "                                     \"Year 11\":average_reading_11th_df,\n",
    "                                     \"Year 12\": average_reading_12th_df})"
   ]
  },
  {
   "cell_type": "code",
   "execution_count": 177,
   "id": "123eb19d-48c6-4175-83bd-ec1fe8f84e2e",
   "metadata": {},
   "outputs": [
    {
     "data": {
      "text/html": [
       "<div>\n",
       "<style scoped>\n",
       "    .dataframe tbody tr th:only-of-type {\n",
       "        vertical-align: middle;\n",
       "    }\n",
       "\n",
       "    .dataframe tbody tr th {\n",
       "        vertical-align: top;\n",
       "    }\n",
       "\n",
       "    .dataframe thead th {\n",
       "        text-align: right;\n",
       "    }\n",
       "</style>\n",
       "<table border=\"1\" class=\"dataframe\">\n",
       "  <thead>\n",
       "    <tr style=\"text-align: right;\">\n",
       "      <th></th>\n",
       "      <th>Year 9</th>\n",
       "      <th>Year 10</th>\n",
       "      <th>Year 11</th>\n",
       "      <th>Year 12</th>\n",
       "    </tr>\n",
       "    <tr>\n",
       "      <th>school_name</th>\n",
       "      <th></th>\n",
       "      <th></th>\n",
       "      <th></th>\n",
       "      <th></th>\n",
       "    </tr>\n",
       "  </thead>\n",
       "  <tbody>\n",
       "    <tr>\n",
       "      <th>Bailey High School</th>\n",
       "      <td>70.901920</td>\n",
       "      <td>70.848265</td>\n",
       "      <td>70.317346</td>\n",
       "      <td>72.195525</td>\n",
       "    </tr>\n",
       "    <tr>\n",
       "      <th>Cabrera High School</th>\n",
       "      <td>71.172348</td>\n",
       "      <td>71.328326</td>\n",
       "      <td>71.201245</td>\n",
       "      <td>71.856021</td>\n",
       "    </tr>\n",
       "    <tr>\n",
       "      <th>Figueroa High School</th>\n",
       "      <td>70.261682</td>\n",
       "      <td>67.677588</td>\n",
       "      <td>69.152327</td>\n",
       "      <td>69.082126</td>\n",
       "    </tr>\n",
       "    <tr>\n",
       "      <th>Ford High School</th>\n",
       "      <td>69.615846</td>\n",
       "      <td>68.988701</td>\n",
       "      <td>70.735964</td>\n",
       "      <td>68.849722</td>\n",
       "    </tr>\n",
       "    <tr>\n",
       "      <th>Griffin High School</th>\n",
       "      <td>72.026895</td>\n",
       "      <td>70.746305</td>\n",
       "      <td>72.385042</td>\n",
       "      <td>69.434932</td>\n",
       "    </tr>\n",
       "    <tr>\n",
       "      <th>Hernandez High School</th>\n",
       "      <td>68.477569</td>\n",
       "      <td>70.621842</td>\n",
       "      <td>68.418199</td>\n",
       "      <td>69.244136</td>\n",
       "    </tr>\n",
       "    <tr>\n",
       "      <th>Holden High School</th>\n",
       "      <td>71.598425</td>\n",
       "      <td>71.096491</td>\n",
       "      <td>73.310680</td>\n",
       "      <td>70.481928</td>\n",
       "    </tr>\n",
       "    <tr>\n",
       "      <th>Huang High School</th>\n",
       "      <td>68.670616</td>\n",
       "      <td>69.516297</td>\n",
       "      <td>68.740638</td>\n",
       "      <td>68.671795</td>\n",
       "    </tr>\n",
       "    <tr>\n",
       "      <th>Johnson High School</th>\n",
       "      <td>68.719286</td>\n",
       "      <td>69.295029</td>\n",
       "      <td>69.969115</td>\n",
       "      <td>67.992521</td>\n",
       "    </tr>\n",
       "    <tr>\n",
       "      <th>Pena High School</th>\n",
       "      <td>70.949091</td>\n",
       "      <td>72.324000</td>\n",
       "      <td>71.703125</td>\n",
       "      <td>71.513812</td>\n",
       "    </tr>\n",
       "    <tr>\n",
       "      <th>Rodriguez High School</th>\n",
       "      <td>70.902921</td>\n",
       "      <td>70.137500</td>\n",
       "      <td>71.424453</td>\n",
       "      <td>71.414449</td>\n",
       "    </tr>\n",
       "    <tr>\n",
       "      <th>Shelton High School</th>\n",
       "      <td>70.715094</td>\n",
       "      <td>69.879464</td>\n",
       "      <td>71.150485</td>\n",
       "      <td>69.070081</td>\n",
       "    </tr>\n",
       "    <tr>\n",
       "      <th>Thomas High School</th>\n",
       "      <td>69.672451</td>\n",
       "      <td>69.741093</td>\n",
       "      <td>70.749398</td>\n",
       "      <td>68.730769</td>\n",
       "    </tr>\n",
       "    <tr>\n",
       "      <th>Wilson High School</th>\n",
       "      <td>68.683043</td>\n",
       "      <td>68.412541</td>\n",
       "      <td>68.796327</td>\n",
       "      <td>69.888143</td>\n",
       "    </tr>\n",
       "    <tr>\n",
       "      <th>Wright High School</th>\n",
       "      <td>71.823529</td>\n",
       "      <td>71.386831</td>\n",
       "      <td>70.475862</td>\n",
       "      <td>69.821138</td>\n",
       "    </tr>\n",
       "  </tbody>\n",
       "</table>\n",
       "</div>"
      ],
      "text/plain": [
       "                          Year 9    Year 10    Year 11    Year 12\n",
       "school_name                                                      \n",
       "Bailey High School     70.901920  70.848265  70.317346  72.195525\n",
       "Cabrera High School    71.172348  71.328326  71.201245  71.856021\n",
       "Figueroa High School   70.261682  67.677588  69.152327  69.082126\n",
       "Ford High School       69.615846  68.988701  70.735964  68.849722\n",
       "Griffin High School    72.026895  70.746305  72.385042  69.434932\n",
       "Hernandez High School  68.477569  70.621842  68.418199  69.244136\n",
       "Holden High School     71.598425  71.096491  73.310680  70.481928\n",
       "Huang High School      68.670616  69.516297  68.740638  68.671795\n",
       "Johnson High School    68.719286  69.295029  69.969115  67.992521\n",
       "Pena High School       70.949091  72.324000  71.703125  71.513812\n",
       "Rodriguez High School  70.902921  70.137500  71.424453  71.414449\n",
       "Shelton High School    70.715094  69.879464  71.150485  69.070081\n",
       "Thomas High School     69.672451  69.741093  70.749398  68.730769\n",
       "Wilson High School     68.683043  68.412541  68.796327  69.888143\n",
       "Wright High School     71.823529  71.386831  70.475862  69.821138"
      ]
     },
     "execution_count": 177,
     "metadata": {},
     "output_type": "execute_result"
    }
   ],
   "source": [
    "reading_score_by_year"
   ]
  },
  {
   "cell_type": "code",
   "execution_count": 192,
   "id": "1d1137a8-a44c-44ee-8b69-0bccd2740f39",
   "metadata": {},
   "outputs": [
    {
     "data": {
      "text/plain": [
       "School Type                object\n",
       "Total Students              int64\n",
       "Total School Budget        object\n",
       "Per Student Budget         object\n",
       "Average Maths Score       float64\n",
       "Average Reading Score     float64\n",
       "% Passing Maths           float64\n",
       "% Passing Reading         float64\n",
       "% Overall Passing         float64\n",
       "School Size              category\n",
       "dtype: object"
      ]
     },
     "execution_count": 192,
     "metadata": {},
     "output_type": "execute_result"
    }
   ],
   "source": [
    "# Scores by School Spending\n",
    "spending_bins = [0, 585, 630, 645, 680]\n",
    "List= [\"<$585\", \"$585-630\", \"$630-645\", \"$645-680\"]\n",
    "\n",
    "scores_spending_df= school_summary_df.copy()\n",
    "scores_spending_df.dtypes"
   ]
  },
  {
   "cell_type": "code",
   "execution_count": 210,
   "id": "b634607b-b1f3-4fa2-a1c2-b4d9f1a76ad6",
   "metadata": {},
   "outputs": [
    {
     "ename": "TypeError",
     "evalue": "cut() missing 1 required positional argument: 'bins'",
     "output_type": "error",
     "traceback": [
      "\u001b[1;31m---------------------------------------------------------------------------\u001b[0m",
      "\u001b[1;31mTypeError\u001b[0m                                 Traceback (most recent call last)",
      "Cell \u001b[1;32mIn[210], line 1\u001b[0m\n\u001b[1;32m----> 1\u001b[0m scores_spending_df[\u001b[38;5;124m\"\u001b[39m\u001b[38;5;124mSpending Ranges (Per Student)\u001b[39m\u001b[38;5;124m\"\u001b[39m] \u001b[38;5;241m=\u001b[39m pd\u001b[38;5;241m.\u001b[39mcut(x\u001b[38;5;241m=\u001b[39mscores_spending_df[\u001b[38;5;124m\"\u001b[39m\u001b[38;5;124mPer Student Budget\u001b[39m\u001b[38;5;124m\"\u001b[39m])\u001b[38;5;241m.\u001b[39mreplace({\u001b[38;5;124mr\u001b[39m\u001b[38;5;124m'\u001b[39m\u001b[38;5;124m\\\u001b[39m\u001b[38;5;124m$\u001b[39m\u001b[38;5;124m'\u001b[39m:\u001b[38;5;124m'\u001b[39m\u001b[38;5;124m'\u001b[39m}, regex \u001b[38;5;241m=\u001b[39m \u001b[38;5;28;01mTrue\u001b[39;00m)\u001b[38;5;241m.\u001b[39mastype({\u001b[38;5;124m\"\u001b[39m\u001b[38;5;124mPer Student Budget\u001b[39m\u001b[38;5;124m\"\u001b[39m: \u001b[38;5;28mfloat\u001b[39m}, size_bins, labels\u001b[38;5;241m=\u001b[39mlists )  \n\u001b[0;32m      3\u001b[0m spending_summary_df \u001b[38;5;241m=\u001b[39m grouped_scores_spending\u001b[38;5;241m.\u001b[39mmean()\n\u001b[0;32m      4\u001b[0m spending_summary_df[[\u001b[38;5;124m\"\u001b[39m\u001b[38;5;124mAverage Math Score\u001b[39m\u001b[38;5;124m\"\u001b[39m, \u001b[38;5;124m\"\u001b[39m\u001b[38;5;124mAverage Reading Score\u001b[39m\u001b[38;5;124m\"\u001b[39m \n\u001b[0;32m      5\u001b[0m , \u001b[38;5;124m\"\u001b[39m\u001b[38;5;124m%\u001b[39m\u001b[38;5;124m Passing Math\u001b[39m\u001b[38;5;124m\"\u001b[39m, \u001b[38;5;124m\"\u001b[39m\u001b[38;5;124m%\u001b[39m\u001b[38;5;124m Passing Reading\u001b[39m\u001b[38;5;124m\"\u001b[39m, \u001b[38;5;124m\"\u001b[39m\u001b[38;5;124m%\u001b[39m\u001b[38;5;124m Overall Passing\u001b[39m\u001b[38;5;124m\"\u001b[39m]]\u001b[38;5;241m.\u001b[39mround(decimals\u001b[38;5;241m=\u001b[39m\u001b[38;5;241m2\u001b[39m)\n",
      "\u001b[1;31mTypeError\u001b[0m: cut() missing 1 required positional argument: 'bins'"
     ]
    }
   ],
   "source": [
    "scores_spending_df[\"Spending Ranges (Per Student)\"] = pd.cut(scores_spending_df[\"Per Student Budget\"], spending_bins, labels=List)\n",
    "       \n",
    "spending_summary_df = grouped_scores_spending.mean()\n",
    "spending_summary_df[[\"Average Math Score\", \"Average Reading Score\" \n",
    ", \"% Passing Math\", \"% Passing Reading\", \"% Overall Passing\"]].round(decimals=2)"
   ]
  },
  {
   "cell_type": "code",
   "execution_count": 211,
   "id": "70f52c46-e008-411e-a3f9-b89039f4d2ba",
   "metadata": {},
   "outputs": [
    {
     "name": "stderr",
     "output_type": "stream",
     "text": [
      "C:\\Users\\Mahsa\\AppData\\Local\\Temp\\ipykernel_22708\\1616061716.py:6: FutureWarning: The default of observed=False is deprecated and will be changed to True in a future version of pandas. Pass observed=False to retain current behavior or observed=True to adopt the future default and silence this warning.\n",
      "  grouped_school_summary_df=school_summary_df.groupby([\"School Size\"])\n"
     ]
    },
    {
     "ename": "TypeError",
     "evalue": "agg function failed [how->mean,dtype->object]",
     "output_type": "error",
     "traceback": [
      "\u001b[1;31m---------------------------------------------------------------------------\u001b[0m",
      "\u001b[1;31mTypeError\u001b[0m                                 Traceback (most recent call last)",
      "File \u001b[1;32mD:\\Newfolder\\Lib\\site-packages\\pandas\\core\\groupby\\groupby.py:1874\u001b[0m, in \u001b[0;36mGroupBy._agg_py_fallback\u001b[1;34m(self, how, values, ndim, alt)\u001b[0m\n\u001b[0;32m   1873\u001b[0m \u001b[38;5;28;01mtry\u001b[39;00m:\n\u001b[1;32m-> 1874\u001b[0m     res_values \u001b[38;5;241m=\u001b[39m \u001b[38;5;28mself\u001b[39m\u001b[38;5;241m.\u001b[39mgrouper\u001b[38;5;241m.\u001b[39magg_series(ser, alt, preserve_dtype\u001b[38;5;241m=\u001b[39m\u001b[38;5;28;01mTrue\u001b[39;00m)\n\u001b[0;32m   1875\u001b[0m \u001b[38;5;28;01mexcept\u001b[39;00m \u001b[38;5;167;01mException\u001b[39;00m \u001b[38;5;28;01mas\u001b[39;00m err:\n",
      "File \u001b[1;32mD:\\Newfolder\\Lib\\site-packages\\pandas\\core\\groupby\\ops.py:849\u001b[0m, in \u001b[0;36mBaseGrouper.agg_series\u001b[1;34m(self, obj, func, preserve_dtype)\u001b[0m\n\u001b[0;32m    847\u001b[0m     preserve_dtype \u001b[38;5;241m=\u001b[39m \u001b[38;5;28;01mTrue\u001b[39;00m\n\u001b[1;32m--> 849\u001b[0m result \u001b[38;5;241m=\u001b[39m \u001b[38;5;28mself\u001b[39m\u001b[38;5;241m.\u001b[39m_aggregate_series_pure_python(obj, func)\n\u001b[0;32m    851\u001b[0m \u001b[38;5;28;01mif\u001b[39;00m \u001b[38;5;28mlen\u001b[39m(obj) \u001b[38;5;241m==\u001b[39m \u001b[38;5;241m0\u001b[39m \u001b[38;5;129;01mand\u001b[39;00m \u001b[38;5;28mlen\u001b[39m(result) \u001b[38;5;241m==\u001b[39m \u001b[38;5;241m0\u001b[39m \u001b[38;5;129;01mand\u001b[39;00m \u001b[38;5;28misinstance\u001b[39m(obj\u001b[38;5;241m.\u001b[39mdtype, ExtensionDtype):\n",
      "File \u001b[1;32mD:\\Newfolder\\Lib\\site-packages\\pandas\\core\\groupby\\ops.py:877\u001b[0m, in \u001b[0;36mBaseGrouper._aggregate_series_pure_python\u001b[1;34m(self, obj, func)\u001b[0m\n\u001b[0;32m    876\u001b[0m \u001b[38;5;28;01mfor\u001b[39;00m i, group \u001b[38;5;129;01min\u001b[39;00m \u001b[38;5;28menumerate\u001b[39m(splitter):\n\u001b[1;32m--> 877\u001b[0m     res \u001b[38;5;241m=\u001b[39m func(group)\n\u001b[0;32m    878\u001b[0m     res \u001b[38;5;241m=\u001b[39m extract_result(res)\n",
      "File \u001b[1;32mD:\\Newfolder\\Lib\\site-packages\\pandas\\core\\groupby\\groupby.py:2380\u001b[0m, in \u001b[0;36mGroupBy.mean.<locals>.<lambda>\u001b[1;34m(x)\u001b[0m\n\u001b[0;32m   2377\u001b[0m \u001b[38;5;28;01melse\u001b[39;00m:\n\u001b[0;32m   2378\u001b[0m     result \u001b[38;5;241m=\u001b[39m \u001b[38;5;28mself\u001b[39m\u001b[38;5;241m.\u001b[39m_cython_agg_general(\n\u001b[0;32m   2379\u001b[0m         \u001b[38;5;124m\"\u001b[39m\u001b[38;5;124mmean\u001b[39m\u001b[38;5;124m\"\u001b[39m,\n\u001b[1;32m-> 2380\u001b[0m         alt\u001b[38;5;241m=\u001b[39m\u001b[38;5;28;01mlambda\u001b[39;00m x: Series(x)\u001b[38;5;241m.\u001b[39mmean(numeric_only\u001b[38;5;241m=\u001b[39mnumeric_only),\n\u001b[0;32m   2381\u001b[0m         numeric_only\u001b[38;5;241m=\u001b[39mnumeric_only,\n\u001b[0;32m   2382\u001b[0m     )\n\u001b[0;32m   2383\u001b[0m     \u001b[38;5;28;01mreturn\u001b[39;00m result\u001b[38;5;241m.\u001b[39m__finalize__(\u001b[38;5;28mself\u001b[39m\u001b[38;5;241m.\u001b[39mobj, method\u001b[38;5;241m=\u001b[39m\u001b[38;5;124m\"\u001b[39m\u001b[38;5;124mgroupby\u001b[39m\u001b[38;5;124m\"\u001b[39m)\n",
      "File \u001b[1;32mD:\\Newfolder\\Lib\\site-packages\\pandas\\core\\series.py:6225\u001b[0m, in \u001b[0;36mSeries.mean\u001b[1;34m(self, axis, skipna, numeric_only, **kwargs)\u001b[0m\n\u001b[0;32m   6217\u001b[0m \u001b[38;5;129m@doc\u001b[39m(make_doc(\u001b[38;5;124m\"\u001b[39m\u001b[38;5;124mmean\u001b[39m\u001b[38;5;124m\"\u001b[39m, ndim\u001b[38;5;241m=\u001b[39m\u001b[38;5;241m1\u001b[39m))\n\u001b[0;32m   6218\u001b[0m \u001b[38;5;28;01mdef\u001b[39;00m \u001b[38;5;21mmean\u001b[39m(\n\u001b[0;32m   6219\u001b[0m     \u001b[38;5;28mself\u001b[39m,\n\u001b[1;32m   (...)\u001b[0m\n\u001b[0;32m   6223\u001b[0m     \u001b[38;5;241m*\u001b[39m\u001b[38;5;241m*\u001b[39mkwargs,\n\u001b[0;32m   6224\u001b[0m ):\n\u001b[1;32m-> 6225\u001b[0m     \u001b[38;5;28;01mreturn\u001b[39;00m NDFrame\u001b[38;5;241m.\u001b[39mmean(\u001b[38;5;28mself\u001b[39m, axis, skipna, numeric_only, \u001b[38;5;241m*\u001b[39m\u001b[38;5;241m*\u001b[39mkwargs)\n",
      "File \u001b[1;32mD:\\Newfolder\\Lib\\site-packages\\pandas\\core\\generic.py:11992\u001b[0m, in \u001b[0;36mNDFrame.mean\u001b[1;34m(self, axis, skipna, numeric_only, **kwargs)\u001b[0m\n\u001b[0;32m  11985\u001b[0m \u001b[38;5;28;01mdef\u001b[39;00m \u001b[38;5;21mmean\u001b[39m(\n\u001b[0;32m  11986\u001b[0m     \u001b[38;5;28mself\u001b[39m,\n\u001b[0;32m  11987\u001b[0m     axis: Axis \u001b[38;5;241m|\u001b[39m \u001b[38;5;28;01mNone\u001b[39;00m \u001b[38;5;241m=\u001b[39m \u001b[38;5;241m0\u001b[39m,\n\u001b[1;32m   (...)\u001b[0m\n\u001b[0;32m  11990\u001b[0m     \u001b[38;5;241m*\u001b[39m\u001b[38;5;241m*\u001b[39mkwargs,\n\u001b[0;32m  11991\u001b[0m ) \u001b[38;5;241m-\u001b[39m\u001b[38;5;241m>\u001b[39m Series \u001b[38;5;241m|\u001b[39m \u001b[38;5;28mfloat\u001b[39m:\n\u001b[1;32m> 11992\u001b[0m     \u001b[38;5;28;01mreturn\u001b[39;00m \u001b[38;5;28mself\u001b[39m\u001b[38;5;241m.\u001b[39m_stat_function(\n\u001b[0;32m  11993\u001b[0m         \u001b[38;5;124m\"\u001b[39m\u001b[38;5;124mmean\u001b[39m\u001b[38;5;124m\"\u001b[39m, nanops\u001b[38;5;241m.\u001b[39mnanmean, axis, skipna, numeric_only, \u001b[38;5;241m*\u001b[39m\u001b[38;5;241m*\u001b[39mkwargs\n\u001b[0;32m  11994\u001b[0m     )\n",
      "File \u001b[1;32mD:\\Newfolder\\Lib\\site-packages\\pandas\\core\\generic.py:11949\u001b[0m, in \u001b[0;36mNDFrame._stat_function\u001b[1;34m(self, name, func, axis, skipna, numeric_only, **kwargs)\u001b[0m\n\u001b[0;32m  11947\u001b[0m validate_bool_kwarg(skipna, \u001b[38;5;124m\"\u001b[39m\u001b[38;5;124mskipna\u001b[39m\u001b[38;5;124m\"\u001b[39m, none_allowed\u001b[38;5;241m=\u001b[39m\u001b[38;5;28;01mFalse\u001b[39;00m)\n\u001b[1;32m> 11949\u001b[0m \u001b[38;5;28;01mreturn\u001b[39;00m \u001b[38;5;28mself\u001b[39m\u001b[38;5;241m.\u001b[39m_reduce(\n\u001b[0;32m  11950\u001b[0m     func, name\u001b[38;5;241m=\u001b[39mname, axis\u001b[38;5;241m=\u001b[39maxis, skipna\u001b[38;5;241m=\u001b[39mskipna, numeric_only\u001b[38;5;241m=\u001b[39mnumeric_only\n\u001b[0;32m  11951\u001b[0m )\n",
      "File \u001b[1;32mD:\\Newfolder\\Lib\\site-packages\\pandas\\core\\series.py:6133\u001b[0m, in \u001b[0;36mSeries._reduce\u001b[1;34m(self, op, name, axis, skipna, numeric_only, filter_type, **kwds)\u001b[0m\n\u001b[0;32m   6129\u001b[0m     \u001b[38;5;28;01mraise\u001b[39;00m \u001b[38;5;167;01mTypeError\u001b[39;00m(\n\u001b[0;32m   6130\u001b[0m         \u001b[38;5;124mf\u001b[39m\u001b[38;5;124m\"\u001b[39m\u001b[38;5;124mSeries.\u001b[39m\u001b[38;5;132;01m{\u001b[39;00mname\u001b[38;5;132;01m}\u001b[39;00m\u001b[38;5;124m does not allow \u001b[39m\u001b[38;5;132;01m{\u001b[39;00mkwd_name\u001b[38;5;132;01m}\u001b[39;00m\u001b[38;5;124m=\u001b[39m\u001b[38;5;132;01m{\u001b[39;00mnumeric_only\u001b[38;5;132;01m}\u001b[39;00m\u001b[38;5;124m \u001b[39m\u001b[38;5;124m\"\u001b[39m\n\u001b[0;32m   6131\u001b[0m         \u001b[38;5;124m\"\u001b[39m\u001b[38;5;124mwith non-numeric dtypes.\u001b[39m\u001b[38;5;124m\"\u001b[39m\n\u001b[0;32m   6132\u001b[0m     )\n\u001b[1;32m-> 6133\u001b[0m \u001b[38;5;28;01mreturn\u001b[39;00m op(delegate, skipna\u001b[38;5;241m=\u001b[39mskipna, \u001b[38;5;241m*\u001b[39m\u001b[38;5;241m*\u001b[39mkwds)\n",
      "File \u001b[1;32mD:\\Newfolder\\Lib\\site-packages\\pandas\\core\\nanops.py:147\u001b[0m, in \u001b[0;36mbottleneck_switch.__call__.<locals>.f\u001b[1;34m(values, axis, skipna, **kwds)\u001b[0m\n\u001b[0;32m    146\u001b[0m \u001b[38;5;28;01melse\u001b[39;00m:\n\u001b[1;32m--> 147\u001b[0m     result \u001b[38;5;241m=\u001b[39m alt(values, axis\u001b[38;5;241m=\u001b[39maxis, skipna\u001b[38;5;241m=\u001b[39mskipna, \u001b[38;5;241m*\u001b[39m\u001b[38;5;241m*\u001b[39mkwds)\n\u001b[0;32m    149\u001b[0m \u001b[38;5;28;01mreturn\u001b[39;00m result\n",
      "File \u001b[1;32mD:\\Newfolder\\Lib\\site-packages\\pandas\\core\\nanops.py:404\u001b[0m, in \u001b[0;36m_datetimelike_compat.<locals>.new_func\u001b[1;34m(values, axis, skipna, mask, **kwargs)\u001b[0m\n\u001b[0;32m    402\u001b[0m     mask \u001b[38;5;241m=\u001b[39m isna(values)\n\u001b[1;32m--> 404\u001b[0m result \u001b[38;5;241m=\u001b[39m func(values, axis\u001b[38;5;241m=\u001b[39maxis, skipna\u001b[38;5;241m=\u001b[39mskipna, mask\u001b[38;5;241m=\u001b[39mmask, \u001b[38;5;241m*\u001b[39m\u001b[38;5;241m*\u001b[39mkwargs)\n\u001b[0;32m    406\u001b[0m \u001b[38;5;28;01mif\u001b[39;00m datetimelike:\n",
      "File \u001b[1;32mD:\\Newfolder\\Lib\\site-packages\\pandas\\core\\nanops.py:720\u001b[0m, in \u001b[0;36mnanmean\u001b[1;34m(values, axis, skipna, mask)\u001b[0m\n\u001b[0;32m    719\u001b[0m the_sum \u001b[38;5;241m=\u001b[39m values\u001b[38;5;241m.\u001b[39msum(axis, dtype\u001b[38;5;241m=\u001b[39mdtype_sum)\n\u001b[1;32m--> 720\u001b[0m the_sum \u001b[38;5;241m=\u001b[39m _ensure_numeric(the_sum)\n\u001b[0;32m    722\u001b[0m \u001b[38;5;28;01mif\u001b[39;00m axis \u001b[38;5;129;01mis\u001b[39;00m \u001b[38;5;129;01mnot\u001b[39;00m \u001b[38;5;28;01mNone\u001b[39;00m \u001b[38;5;129;01mand\u001b[39;00m \u001b[38;5;28mgetattr\u001b[39m(the_sum, \u001b[38;5;124m\"\u001b[39m\u001b[38;5;124mndim\u001b[39m\u001b[38;5;124m\"\u001b[39m, \u001b[38;5;28;01mFalse\u001b[39;00m):\n",
      "File \u001b[1;32mD:\\Newfolder\\Lib\\site-packages\\pandas\\core\\nanops.py:1693\u001b[0m, in \u001b[0;36m_ensure_numeric\u001b[1;34m(x)\u001b[0m\n\u001b[0;32m   1691\u001b[0m \u001b[38;5;28;01mif\u001b[39;00m \u001b[38;5;28misinstance\u001b[39m(x, \u001b[38;5;28mstr\u001b[39m):\n\u001b[0;32m   1692\u001b[0m     \u001b[38;5;66;03m# GH#44008, GH#36703 avoid casting e.g. strings to numeric\u001b[39;00m\n\u001b[1;32m-> 1693\u001b[0m     \u001b[38;5;28;01mraise\u001b[39;00m \u001b[38;5;167;01mTypeError\u001b[39;00m(\u001b[38;5;124mf\u001b[39m\u001b[38;5;124m\"\u001b[39m\u001b[38;5;124mCould not convert string \u001b[39m\u001b[38;5;124m'\u001b[39m\u001b[38;5;132;01m{\u001b[39;00mx\u001b[38;5;132;01m}\u001b[39;00m\u001b[38;5;124m'\u001b[39m\u001b[38;5;124m to numeric\u001b[39m\u001b[38;5;124m\"\u001b[39m)\n\u001b[0;32m   1694\u001b[0m \u001b[38;5;28;01mtry\u001b[39;00m:\n",
      "\u001b[1;31mTypeError\u001b[0m: Could not convert string 'IndependentIndependent' to numeric",
      "\nThe above exception was the direct cause of the following exception:\n",
      "\u001b[1;31mTypeError\u001b[0m                                 Traceback (most recent call last)",
      "Cell \u001b[1;32mIn[211], line 7\u001b[0m\n\u001b[0;32m      5\u001b[0m school_summary_df[\u001b[38;5;124m\"\u001b[39m\u001b[38;5;124mSchool Size\u001b[39m\u001b[38;5;124m\"\u001b[39m]\u001b[38;5;241m=\u001b[39mpd\u001b[38;5;241m.\u001b[39mcut(school_summary_df[\u001b[38;5;124m\"\u001b[39m\u001b[38;5;124mTotal Students\u001b[39m\u001b[38;5;124m\"\u001b[39m],size_bins, labels\u001b[38;5;241m=\u001b[39mlists)\n\u001b[0;32m      6\u001b[0m grouped_school_summary_df\u001b[38;5;241m=\u001b[39mschool_summary_df\u001b[38;5;241m.\u001b[39mgroupby([\u001b[38;5;124m\"\u001b[39m\u001b[38;5;124mSchool Size\u001b[39m\u001b[38;5;124m\"\u001b[39m])\n\u001b[1;32m----> 7\u001b[0m size_summary_df\u001b[38;5;241m=\u001b[39mgrouped_school_summary_df\u001b[38;5;241m.\u001b[39mmean()\n\u001b[0;32m      8\u001b[0m size_summary_df[[\u001b[38;5;124m\"\u001b[39m\u001b[38;5;124mAverage Math Score\u001b[39m\u001b[38;5;124m\"\u001b[39m, \u001b[38;5;124m\"\u001b[39m\u001b[38;5;124mAverage Reading Score\u001b[39m\u001b[38;5;124m\"\u001b[39m \n\u001b[0;32m      9\u001b[0m                      , \u001b[38;5;124m\"\u001b[39m\u001b[38;5;124m%\u001b[39m\u001b[38;5;124m Passing Math\u001b[39m\u001b[38;5;124m\"\u001b[39m, \u001b[38;5;124m\"\u001b[39m\u001b[38;5;124m%\u001b[39m\u001b[38;5;124m Passing Reading\u001b[39m\u001b[38;5;124m\"\u001b[39m, \u001b[38;5;124m\"\u001b[39m\u001b[38;5;124m%\u001b[39m\u001b[38;5;124m Overall Passing\u001b[39m\u001b[38;5;124m\"\u001b[39m]]\n",
      "File \u001b[1;32mD:\\Newfolder\\Lib\\site-packages\\pandas\\core\\groupby\\groupby.py:2378\u001b[0m, in \u001b[0;36mGroupBy.mean\u001b[1;34m(self, numeric_only, engine, engine_kwargs)\u001b[0m\n\u001b[0;32m   2371\u001b[0m     \u001b[38;5;28;01mreturn\u001b[39;00m \u001b[38;5;28mself\u001b[39m\u001b[38;5;241m.\u001b[39m_numba_agg_general(\n\u001b[0;32m   2372\u001b[0m         grouped_mean,\n\u001b[0;32m   2373\u001b[0m         executor\u001b[38;5;241m.\u001b[39mfloat_dtype_mapping,\n\u001b[0;32m   2374\u001b[0m         engine_kwargs,\n\u001b[0;32m   2375\u001b[0m         min_periods\u001b[38;5;241m=\u001b[39m\u001b[38;5;241m0\u001b[39m,\n\u001b[0;32m   2376\u001b[0m     )\n\u001b[0;32m   2377\u001b[0m \u001b[38;5;28;01melse\u001b[39;00m:\n\u001b[1;32m-> 2378\u001b[0m     result \u001b[38;5;241m=\u001b[39m \u001b[38;5;28mself\u001b[39m\u001b[38;5;241m.\u001b[39m_cython_agg_general(\n\u001b[0;32m   2379\u001b[0m         \u001b[38;5;124m\"\u001b[39m\u001b[38;5;124mmean\u001b[39m\u001b[38;5;124m\"\u001b[39m,\n\u001b[0;32m   2380\u001b[0m         alt\u001b[38;5;241m=\u001b[39m\u001b[38;5;28;01mlambda\u001b[39;00m x: Series(x)\u001b[38;5;241m.\u001b[39mmean(numeric_only\u001b[38;5;241m=\u001b[39mnumeric_only),\n\u001b[0;32m   2381\u001b[0m         numeric_only\u001b[38;5;241m=\u001b[39mnumeric_only,\n\u001b[0;32m   2382\u001b[0m     )\n\u001b[0;32m   2383\u001b[0m     \u001b[38;5;28;01mreturn\u001b[39;00m result\u001b[38;5;241m.\u001b[39m__finalize__(\u001b[38;5;28mself\u001b[39m\u001b[38;5;241m.\u001b[39mobj, method\u001b[38;5;241m=\u001b[39m\u001b[38;5;124m\"\u001b[39m\u001b[38;5;124mgroupby\u001b[39m\u001b[38;5;124m\"\u001b[39m)\n",
      "File \u001b[1;32mD:\\Newfolder\\Lib\\site-packages\\pandas\\core\\groupby\\groupby.py:1929\u001b[0m, in \u001b[0;36mGroupBy._cython_agg_general\u001b[1;34m(self, how, alt, numeric_only, min_count, **kwargs)\u001b[0m\n\u001b[0;32m   1926\u001b[0m     result \u001b[38;5;241m=\u001b[39m \u001b[38;5;28mself\u001b[39m\u001b[38;5;241m.\u001b[39m_agg_py_fallback(how, values, ndim\u001b[38;5;241m=\u001b[39mdata\u001b[38;5;241m.\u001b[39mndim, alt\u001b[38;5;241m=\u001b[39malt)\n\u001b[0;32m   1927\u001b[0m     \u001b[38;5;28;01mreturn\u001b[39;00m result\n\u001b[1;32m-> 1929\u001b[0m new_mgr \u001b[38;5;241m=\u001b[39m data\u001b[38;5;241m.\u001b[39mgrouped_reduce(array_func)\n\u001b[0;32m   1930\u001b[0m res \u001b[38;5;241m=\u001b[39m \u001b[38;5;28mself\u001b[39m\u001b[38;5;241m.\u001b[39m_wrap_agged_manager(new_mgr)\n\u001b[0;32m   1931\u001b[0m out \u001b[38;5;241m=\u001b[39m \u001b[38;5;28mself\u001b[39m\u001b[38;5;241m.\u001b[39m_wrap_aggregated_output(res)\n",
      "File \u001b[1;32mD:\\Newfolder\\Lib\\site-packages\\pandas\\core\\internals\\managers.py:1428\u001b[0m, in \u001b[0;36mBlockManager.grouped_reduce\u001b[1;34m(self, func)\u001b[0m\n\u001b[0;32m   1424\u001b[0m \u001b[38;5;28;01mif\u001b[39;00m blk\u001b[38;5;241m.\u001b[39mis_object:\n\u001b[0;32m   1425\u001b[0m     \u001b[38;5;66;03m# split on object-dtype blocks bc some columns may raise\u001b[39;00m\n\u001b[0;32m   1426\u001b[0m     \u001b[38;5;66;03m#  while others do not.\u001b[39;00m\n\u001b[0;32m   1427\u001b[0m     \u001b[38;5;28;01mfor\u001b[39;00m sb \u001b[38;5;129;01min\u001b[39;00m blk\u001b[38;5;241m.\u001b[39m_split():\n\u001b[1;32m-> 1428\u001b[0m         applied \u001b[38;5;241m=\u001b[39m sb\u001b[38;5;241m.\u001b[39mapply(func)\n\u001b[0;32m   1429\u001b[0m         result_blocks \u001b[38;5;241m=\u001b[39m extend_blocks(applied, result_blocks)\n\u001b[0;32m   1430\u001b[0m \u001b[38;5;28;01melse\u001b[39;00m:\n",
      "File \u001b[1;32mD:\\Newfolder\\Lib\\site-packages\\pandas\\core\\internals\\blocks.py:366\u001b[0m, in \u001b[0;36mBlock.apply\u001b[1;34m(self, func, **kwargs)\u001b[0m\n\u001b[0;32m    360\u001b[0m \u001b[38;5;129m@final\u001b[39m\n\u001b[0;32m    361\u001b[0m \u001b[38;5;28;01mdef\u001b[39;00m \u001b[38;5;21mapply\u001b[39m(\u001b[38;5;28mself\u001b[39m, func, \u001b[38;5;241m*\u001b[39m\u001b[38;5;241m*\u001b[39mkwargs) \u001b[38;5;241m-\u001b[39m\u001b[38;5;241m>\u001b[39m \u001b[38;5;28mlist\u001b[39m[Block]:\n\u001b[0;32m    362\u001b[0m \u001b[38;5;250m    \u001b[39m\u001b[38;5;124;03m\"\"\"\u001b[39;00m\n\u001b[0;32m    363\u001b[0m \u001b[38;5;124;03m    apply the function to my values; return a block if we are not\u001b[39;00m\n\u001b[0;32m    364\u001b[0m \u001b[38;5;124;03m    one\u001b[39;00m\n\u001b[0;32m    365\u001b[0m \u001b[38;5;124;03m    \"\"\"\u001b[39;00m\n\u001b[1;32m--> 366\u001b[0m     result \u001b[38;5;241m=\u001b[39m func(\u001b[38;5;28mself\u001b[39m\u001b[38;5;241m.\u001b[39mvalues, \u001b[38;5;241m*\u001b[39m\u001b[38;5;241m*\u001b[39mkwargs)\n\u001b[0;32m    368\u001b[0m     result \u001b[38;5;241m=\u001b[39m maybe_coerce_values(result)\n\u001b[0;32m    369\u001b[0m     \u001b[38;5;28;01mreturn\u001b[39;00m \u001b[38;5;28mself\u001b[39m\u001b[38;5;241m.\u001b[39m_split_op_result(result)\n",
      "File \u001b[1;32mD:\\Newfolder\\Lib\\site-packages\\pandas\\core\\groupby\\groupby.py:1926\u001b[0m, in \u001b[0;36mGroupBy._cython_agg_general.<locals>.array_func\u001b[1;34m(values)\u001b[0m\n\u001b[0;32m   1923\u001b[0m \u001b[38;5;28;01melse\u001b[39;00m:\n\u001b[0;32m   1924\u001b[0m     \u001b[38;5;28;01mreturn\u001b[39;00m result\n\u001b[1;32m-> 1926\u001b[0m result \u001b[38;5;241m=\u001b[39m \u001b[38;5;28mself\u001b[39m\u001b[38;5;241m.\u001b[39m_agg_py_fallback(how, values, ndim\u001b[38;5;241m=\u001b[39mdata\u001b[38;5;241m.\u001b[39mndim, alt\u001b[38;5;241m=\u001b[39malt)\n\u001b[0;32m   1927\u001b[0m \u001b[38;5;28;01mreturn\u001b[39;00m result\n",
      "File \u001b[1;32mD:\\Newfolder\\Lib\\site-packages\\pandas\\core\\groupby\\groupby.py:1878\u001b[0m, in \u001b[0;36mGroupBy._agg_py_fallback\u001b[1;34m(self, how, values, ndim, alt)\u001b[0m\n\u001b[0;32m   1876\u001b[0m     msg \u001b[38;5;241m=\u001b[39m \u001b[38;5;124mf\u001b[39m\u001b[38;5;124m\"\u001b[39m\u001b[38;5;124magg function failed [how->\u001b[39m\u001b[38;5;132;01m{\u001b[39;00mhow\u001b[38;5;132;01m}\u001b[39;00m\u001b[38;5;124m,dtype->\u001b[39m\u001b[38;5;132;01m{\u001b[39;00mser\u001b[38;5;241m.\u001b[39mdtype\u001b[38;5;132;01m}\u001b[39;00m\u001b[38;5;124m]\u001b[39m\u001b[38;5;124m\"\u001b[39m\n\u001b[0;32m   1877\u001b[0m     \u001b[38;5;66;03m# preserve the kind of exception that raised\u001b[39;00m\n\u001b[1;32m-> 1878\u001b[0m     \u001b[38;5;28;01mraise\u001b[39;00m \u001b[38;5;28mtype\u001b[39m(err)(msg) \u001b[38;5;28;01mfrom\u001b[39;00m \u001b[38;5;21;01merr\u001b[39;00m\n\u001b[0;32m   1880\u001b[0m \u001b[38;5;28;01mif\u001b[39;00m ser\u001b[38;5;241m.\u001b[39mdtype \u001b[38;5;241m==\u001b[39m \u001b[38;5;28mobject\u001b[39m:\n\u001b[0;32m   1881\u001b[0m     res_values \u001b[38;5;241m=\u001b[39m res_values\u001b[38;5;241m.\u001b[39mastype(\u001b[38;5;28mobject\u001b[39m, copy\u001b[38;5;241m=\u001b[39m\u001b[38;5;28;01mFalse\u001b[39;00m)\n",
      "\u001b[1;31mTypeError\u001b[0m: agg function failed [how->mean,dtype->object]"
     ]
    }
   ],
   "source": [
    "## Scores by School Size\n",
    "size_bins = [0, 1000, 2000, 5000]\n",
    "lists = [\"Small (<1000)\", \"Medium (1000-2000)\", \"Large (2000-5000)\"]\n",
    "\n",
    "school_summary_df[\"School Size\"]=pd.cut(school_summary_df[\"Total Students\"],size_bins, labels=lists)\n",
    "grouped_school_summary_df=school_summary_df.groupby([\"School Size\"])\n",
    "size_summary_df=grouped_school_summary_df.mean()\n",
    "size_summary_df[[\"Average Math Score\", \"Average Reading Score\" \n",
    "                     , \"% Passing Math\", \"% Passing Reading\", \"% Overall Passing\"]]"
   ]
  },
  {
   "cell_type": "code",
   "execution_count": 188,
   "id": "51a996e0-36b6-4f5e-bde6-6967e2dcda35",
   "metadata": {},
   "outputs": [
    {
     "ename": "TypeError",
     "evalue": "agg function failed [how->mean,dtype->object]",
     "output_type": "error",
     "traceback": [
      "\u001b[1;31m---------------------------------------------------------------------------\u001b[0m",
      "\u001b[1;31mTypeError\u001b[0m                                 Traceback (most recent call last)",
      "File \u001b[1;32mD:\\Newfolder\\Lib\\site-packages\\pandas\\core\\groupby\\groupby.py:1874\u001b[0m, in \u001b[0;36mGroupBy._agg_py_fallback\u001b[1;34m(self, how, values, ndim, alt)\u001b[0m\n\u001b[0;32m   1873\u001b[0m \u001b[38;5;28;01mtry\u001b[39;00m:\n\u001b[1;32m-> 1874\u001b[0m     res_values \u001b[38;5;241m=\u001b[39m \u001b[38;5;28mself\u001b[39m\u001b[38;5;241m.\u001b[39mgrouper\u001b[38;5;241m.\u001b[39magg_series(ser, alt, preserve_dtype\u001b[38;5;241m=\u001b[39m\u001b[38;5;28;01mTrue\u001b[39;00m)\n\u001b[0;32m   1875\u001b[0m \u001b[38;5;28;01mexcept\u001b[39;00m \u001b[38;5;167;01mException\u001b[39;00m \u001b[38;5;28;01mas\u001b[39;00m err:\n",
      "File \u001b[1;32mD:\\Newfolder\\Lib\\site-packages\\pandas\\core\\groupby\\ops.py:849\u001b[0m, in \u001b[0;36mBaseGrouper.agg_series\u001b[1;34m(self, obj, func, preserve_dtype)\u001b[0m\n\u001b[0;32m    847\u001b[0m     preserve_dtype \u001b[38;5;241m=\u001b[39m \u001b[38;5;28;01mTrue\u001b[39;00m\n\u001b[1;32m--> 849\u001b[0m result \u001b[38;5;241m=\u001b[39m \u001b[38;5;28mself\u001b[39m\u001b[38;5;241m.\u001b[39m_aggregate_series_pure_python(obj, func)\n\u001b[0;32m    851\u001b[0m \u001b[38;5;28;01mif\u001b[39;00m \u001b[38;5;28mlen\u001b[39m(obj) \u001b[38;5;241m==\u001b[39m \u001b[38;5;241m0\u001b[39m \u001b[38;5;129;01mand\u001b[39;00m \u001b[38;5;28mlen\u001b[39m(result) \u001b[38;5;241m==\u001b[39m \u001b[38;5;241m0\u001b[39m \u001b[38;5;129;01mand\u001b[39;00m \u001b[38;5;28misinstance\u001b[39m(obj\u001b[38;5;241m.\u001b[39mdtype, ExtensionDtype):\n",
      "File \u001b[1;32mD:\\Newfolder\\Lib\\site-packages\\pandas\\core\\groupby\\ops.py:877\u001b[0m, in \u001b[0;36mBaseGrouper._aggregate_series_pure_python\u001b[1;34m(self, obj, func)\u001b[0m\n\u001b[0;32m    876\u001b[0m \u001b[38;5;28;01mfor\u001b[39;00m i, group \u001b[38;5;129;01min\u001b[39;00m \u001b[38;5;28menumerate\u001b[39m(splitter):\n\u001b[1;32m--> 877\u001b[0m     res \u001b[38;5;241m=\u001b[39m func(group)\n\u001b[0;32m    878\u001b[0m     res \u001b[38;5;241m=\u001b[39m extract_result(res)\n",
      "File \u001b[1;32mD:\\Newfolder\\Lib\\site-packages\\pandas\\core\\groupby\\groupby.py:2380\u001b[0m, in \u001b[0;36mGroupBy.mean.<locals>.<lambda>\u001b[1;34m(x)\u001b[0m\n\u001b[0;32m   2377\u001b[0m \u001b[38;5;28;01melse\u001b[39;00m:\n\u001b[0;32m   2378\u001b[0m     result \u001b[38;5;241m=\u001b[39m \u001b[38;5;28mself\u001b[39m\u001b[38;5;241m.\u001b[39m_cython_agg_general(\n\u001b[0;32m   2379\u001b[0m         \u001b[38;5;124m\"\u001b[39m\u001b[38;5;124mmean\u001b[39m\u001b[38;5;124m\"\u001b[39m,\n\u001b[1;32m-> 2380\u001b[0m         alt\u001b[38;5;241m=\u001b[39m\u001b[38;5;28;01mlambda\u001b[39;00m x: Series(x)\u001b[38;5;241m.\u001b[39mmean(numeric_only\u001b[38;5;241m=\u001b[39mnumeric_only),\n\u001b[0;32m   2381\u001b[0m         numeric_only\u001b[38;5;241m=\u001b[39mnumeric_only,\n\u001b[0;32m   2382\u001b[0m     )\n\u001b[0;32m   2383\u001b[0m     \u001b[38;5;28;01mreturn\u001b[39;00m result\u001b[38;5;241m.\u001b[39m__finalize__(\u001b[38;5;28mself\u001b[39m\u001b[38;5;241m.\u001b[39mobj, method\u001b[38;5;241m=\u001b[39m\u001b[38;5;124m\"\u001b[39m\u001b[38;5;124mgroupby\u001b[39m\u001b[38;5;124m\"\u001b[39m)\n",
      "File \u001b[1;32mD:\\Newfolder\\Lib\\site-packages\\pandas\\core\\series.py:6225\u001b[0m, in \u001b[0;36mSeries.mean\u001b[1;34m(self, axis, skipna, numeric_only, **kwargs)\u001b[0m\n\u001b[0;32m   6217\u001b[0m \u001b[38;5;129m@doc\u001b[39m(make_doc(\u001b[38;5;124m\"\u001b[39m\u001b[38;5;124mmean\u001b[39m\u001b[38;5;124m\"\u001b[39m, ndim\u001b[38;5;241m=\u001b[39m\u001b[38;5;241m1\u001b[39m))\n\u001b[0;32m   6218\u001b[0m \u001b[38;5;28;01mdef\u001b[39;00m \u001b[38;5;21mmean\u001b[39m(\n\u001b[0;32m   6219\u001b[0m     \u001b[38;5;28mself\u001b[39m,\n\u001b[1;32m   (...)\u001b[0m\n\u001b[0;32m   6223\u001b[0m     \u001b[38;5;241m*\u001b[39m\u001b[38;5;241m*\u001b[39mkwargs,\n\u001b[0;32m   6224\u001b[0m ):\n\u001b[1;32m-> 6225\u001b[0m     \u001b[38;5;28;01mreturn\u001b[39;00m NDFrame\u001b[38;5;241m.\u001b[39mmean(\u001b[38;5;28mself\u001b[39m, axis, skipna, numeric_only, \u001b[38;5;241m*\u001b[39m\u001b[38;5;241m*\u001b[39mkwargs)\n",
      "File \u001b[1;32mD:\\Newfolder\\Lib\\site-packages\\pandas\\core\\generic.py:11992\u001b[0m, in \u001b[0;36mNDFrame.mean\u001b[1;34m(self, axis, skipna, numeric_only, **kwargs)\u001b[0m\n\u001b[0;32m  11985\u001b[0m \u001b[38;5;28;01mdef\u001b[39;00m \u001b[38;5;21mmean\u001b[39m(\n\u001b[0;32m  11986\u001b[0m     \u001b[38;5;28mself\u001b[39m,\n\u001b[0;32m  11987\u001b[0m     axis: Axis \u001b[38;5;241m|\u001b[39m \u001b[38;5;28;01mNone\u001b[39;00m \u001b[38;5;241m=\u001b[39m \u001b[38;5;241m0\u001b[39m,\n\u001b[1;32m   (...)\u001b[0m\n\u001b[0;32m  11990\u001b[0m     \u001b[38;5;241m*\u001b[39m\u001b[38;5;241m*\u001b[39mkwargs,\n\u001b[0;32m  11991\u001b[0m ) \u001b[38;5;241m-\u001b[39m\u001b[38;5;241m>\u001b[39m Series \u001b[38;5;241m|\u001b[39m \u001b[38;5;28mfloat\u001b[39m:\n\u001b[1;32m> 11992\u001b[0m     \u001b[38;5;28;01mreturn\u001b[39;00m \u001b[38;5;28mself\u001b[39m\u001b[38;5;241m.\u001b[39m_stat_function(\n\u001b[0;32m  11993\u001b[0m         \u001b[38;5;124m\"\u001b[39m\u001b[38;5;124mmean\u001b[39m\u001b[38;5;124m\"\u001b[39m, nanops\u001b[38;5;241m.\u001b[39mnanmean, axis, skipna, numeric_only, \u001b[38;5;241m*\u001b[39m\u001b[38;5;241m*\u001b[39mkwargs\n\u001b[0;32m  11994\u001b[0m     )\n",
      "File \u001b[1;32mD:\\Newfolder\\Lib\\site-packages\\pandas\\core\\generic.py:11949\u001b[0m, in \u001b[0;36mNDFrame._stat_function\u001b[1;34m(self, name, func, axis, skipna, numeric_only, **kwargs)\u001b[0m\n\u001b[0;32m  11947\u001b[0m validate_bool_kwarg(skipna, \u001b[38;5;124m\"\u001b[39m\u001b[38;5;124mskipna\u001b[39m\u001b[38;5;124m\"\u001b[39m, none_allowed\u001b[38;5;241m=\u001b[39m\u001b[38;5;28;01mFalse\u001b[39;00m)\n\u001b[1;32m> 11949\u001b[0m \u001b[38;5;28;01mreturn\u001b[39;00m \u001b[38;5;28mself\u001b[39m\u001b[38;5;241m.\u001b[39m_reduce(\n\u001b[0;32m  11950\u001b[0m     func, name\u001b[38;5;241m=\u001b[39mname, axis\u001b[38;5;241m=\u001b[39maxis, skipna\u001b[38;5;241m=\u001b[39mskipna, numeric_only\u001b[38;5;241m=\u001b[39mnumeric_only\n\u001b[0;32m  11951\u001b[0m )\n",
      "File \u001b[1;32mD:\\Newfolder\\Lib\\site-packages\\pandas\\core\\series.py:6133\u001b[0m, in \u001b[0;36mSeries._reduce\u001b[1;34m(self, op, name, axis, skipna, numeric_only, filter_type, **kwds)\u001b[0m\n\u001b[0;32m   6129\u001b[0m     \u001b[38;5;28;01mraise\u001b[39;00m \u001b[38;5;167;01mTypeError\u001b[39;00m(\n\u001b[0;32m   6130\u001b[0m         \u001b[38;5;124mf\u001b[39m\u001b[38;5;124m\"\u001b[39m\u001b[38;5;124mSeries.\u001b[39m\u001b[38;5;132;01m{\u001b[39;00mname\u001b[38;5;132;01m}\u001b[39;00m\u001b[38;5;124m does not allow \u001b[39m\u001b[38;5;132;01m{\u001b[39;00mkwd_name\u001b[38;5;132;01m}\u001b[39;00m\u001b[38;5;124m=\u001b[39m\u001b[38;5;132;01m{\u001b[39;00mnumeric_only\u001b[38;5;132;01m}\u001b[39;00m\u001b[38;5;124m \u001b[39m\u001b[38;5;124m\"\u001b[39m\n\u001b[0;32m   6131\u001b[0m         \u001b[38;5;124m\"\u001b[39m\u001b[38;5;124mwith non-numeric dtypes.\u001b[39m\u001b[38;5;124m\"\u001b[39m\n\u001b[0;32m   6132\u001b[0m     )\n\u001b[1;32m-> 6133\u001b[0m \u001b[38;5;28;01mreturn\u001b[39;00m op(delegate, skipna\u001b[38;5;241m=\u001b[39mskipna, \u001b[38;5;241m*\u001b[39m\u001b[38;5;241m*\u001b[39mkwds)\n",
      "File \u001b[1;32mD:\\Newfolder\\Lib\\site-packages\\pandas\\core\\nanops.py:147\u001b[0m, in \u001b[0;36mbottleneck_switch.__call__.<locals>.f\u001b[1;34m(values, axis, skipna, **kwds)\u001b[0m\n\u001b[0;32m    146\u001b[0m \u001b[38;5;28;01melse\u001b[39;00m:\n\u001b[1;32m--> 147\u001b[0m     result \u001b[38;5;241m=\u001b[39m alt(values, axis\u001b[38;5;241m=\u001b[39maxis, skipna\u001b[38;5;241m=\u001b[39mskipna, \u001b[38;5;241m*\u001b[39m\u001b[38;5;241m*\u001b[39mkwds)\n\u001b[0;32m    149\u001b[0m \u001b[38;5;28;01mreturn\u001b[39;00m result\n",
      "File \u001b[1;32mD:\\Newfolder\\Lib\\site-packages\\pandas\\core\\nanops.py:404\u001b[0m, in \u001b[0;36m_datetimelike_compat.<locals>.new_func\u001b[1;34m(values, axis, skipna, mask, **kwargs)\u001b[0m\n\u001b[0;32m    402\u001b[0m     mask \u001b[38;5;241m=\u001b[39m isna(values)\n\u001b[1;32m--> 404\u001b[0m result \u001b[38;5;241m=\u001b[39m func(values, axis\u001b[38;5;241m=\u001b[39maxis, skipna\u001b[38;5;241m=\u001b[39mskipna, mask\u001b[38;5;241m=\u001b[39mmask, \u001b[38;5;241m*\u001b[39m\u001b[38;5;241m*\u001b[39mkwargs)\n\u001b[0;32m    406\u001b[0m \u001b[38;5;28;01mif\u001b[39;00m datetimelike:\n",
      "File \u001b[1;32mD:\\Newfolder\\Lib\\site-packages\\pandas\\core\\nanops.py:720\u001b[0m, in \u001b[0;36mnanmean\u001b[1;34m(values, axis, skipna, mask)\u001b[0m\n\u001b[0;32m    719\u001b[0m the_sum \u001b[38;5;241m=\u001b[39m values\u001b[38;5;241m.\u001b[39msum(axis, dtype\u001b[38;5;241m=\u001b[39mdtype_sum)\n\u001b[1;32m--> 720\u001b[0m the_sum \u001b[38;5;241m=\u001b[39m _ensure_numeric(the_sum)\n\u001b[0;32m    722\u001b[0m \u001b[38;5;28;01mif\u001b[39;00m axis \u001b[38;5;129;01mis\u001b[39;00m \u001b[38;5;129;01mnot\u001b[39;00m \u001b[38;5;28;01mNone\u001b[39;00m \u001b[38;5;129;01mand\u001b[39;00m \u001b[38;5;28mgetattr\u001b[39m(the_sum, \u001b[38;5;124m\"\u001b[39m\u001b[38;5;124mndim\u001b[39m\u001b[38;5;124m\"\u001b[39m, \u001b[38;5;28;01mFalse\u001b[39;00m):\n",
      "File \u001b[1;32mD:\\Newfolder\\Lib\\site-packages\\pandas\\core\\nanops.py:1693\u001b[0m, in \u001b[0;36m_ensure_numeric\u001b[1;34m(x)\u001b[0m\n\u001b[0;32m   1691\u001b[0m \u001b[38;5;28;01mif\u001b[39;00m \u001b[38;5;28misinstance\u001b[39m(x, \u001b[38;5;28mstr\u001b[39m):\n\u001b[0;32m   1692\u001b[0m     \u001b[38;5;66;03m# GH#44008, GH#36703 avoid casting e.g. strings to numeric\u001b[39;00m\n\u001b[1;32m-> 1693\u001b[0m     \u001b[38;5;28;01mraise\u001b[39;00m \u001b[38;5;167;01mTypeError\u001b[39;00m(\u001b[38;5;124mf\u001b[39m\u001b[38;5;124m\"\u001b[39m\u001b[38;5;124mCould not convert string \u001b[39m\u001b[38;5;124m'\u001b[39m\u001b[38;5;132;01m{\u001b[39;00mx\u001b[38;5;132;01m}\u001b[39;00m\u001b[38;5;124m'\u001b[39m\u001b[38;5;124m to numeric\u001b[39m\u001b[38;5;124m\"\u001b[39m)\n\u001b[0;32m   1694\u001b[0m \u001b[38;5;28;01mtry\u001b[39;00m:\n",
      "\u001b[1;31mTypeError\u001b[0m: Could not convert string '$3,124,928.00$1,884,411.00$1,763,916.00$3,022,020.00$1,910,635.00$3,094,650.00$2,547,363.00' to numeric",
      "\nThe above exception was the direct cause of the following exception:\n",
      "\u001b[1;31mTypeError\u001b[0m                                 Traceback (most recent call last)",
      "Cell \u001b[1;32mIn[188], line 3\u001b[0m\n\u001b[0;32m      1\u001b[0m \u001b[38;5;66;03m##Scores by School Type\u001b[39;00m\n\u001b[0;32m      2\u001b[0m grouped_school_summary_df\u001b[38;5;241m=\u001b[39mschool_summary_df\u001b[38;5;241m.\u001b[39mgroupby([\u001b[38;5;124m\"\u001b[39m\u001b[38;5;124mSchool Type\u001b[39m\u001b[38;5;124m\"\u001b[39m])\n\u001b[1;32m----> 3\u001b[0m type_summary_df\u001b[38;5;241m=\u001b[39mgrouped_school_summary_df\u001b[38;5;241m.\u001b[39mmean()\n\u001b[0;32m      4\u001b[0m type_summary_df[[\u001b[38;5;124m\"\u001b[39m\u001b[38;5;124mAverage Math Score\u001b[39m\u001b[38;5;124m\"\u001b[39m, \u001b[38;5;124m\"\u001b[39m\u001b[38;5;124mAverage Reading Score\u001b[39m\u001b[38;5;124m\"\u001b[39m \n\u001b[0;32m      5\u001b[0m                      , \u001b[38;5;124m\"\u001b[39m\u001b[38;5;124m%\u001b[39m\u001b[38;5;124m Passing Math\u001b[39m\u001b[38;5;124m\"\u001b[39m, \u001b[38;5;124m\"\u001b[39m\u001b[38;5;124m%\u001b[39m\u001b[38;5;124m Passing Reading\u001b[39m\u001b[38;5;124m\"\u001b[39m, \u001b[38;5;124m\"\u001b[39m\u001b[38;5;124m%\u001b[39m\u001b[38;5;124m Overall Passing\u001b[39m\u001b[38;5;124m\"\u001b[39m]]\n",
      "File \u001b[1;32mD:\\Newfolder\\Lib\\site-packages\\pandas\\core\\groupby\\groupby.py:2378\u001b[0m, in \u001b[0;36mGroupBy.mean\u001b[1;34m(self, numeric_only, engine, engine_kwargs)\u001b[0m\n\u001b[0;32m   2371\u001b[0m     \u001b[38;5;28;01mreturn\u001b[39;00m \u001b[38;5;28mself\u001b[39m\u001b[38;5;241m.\u001b[39m_numba_agg_general(\n\u001b[0;32m   2372\u001b[0m         grouped_mean,\n\u001b[0;32m   2373\u001b[0m         executor\u001b[38;5;241m.\u001b[39mfloat_dtype_mapping,\n\u001b[0;32m   2374\u001b[0m         engine_kwargs,\n\u001b[0;32m   2375\u001b[0m         min_periods\u001b[38;5;241m=\u001b[39m\u001b[38;5;241m0\u001b[39m,\n\u001b[0;32m   2376\u001b[0m     )\n\u001b[0;32m   2377\u001b[0m \u001b[38;5;28;01melse\u001b[39;00m:\n\u001b[1;32m-> 2378\u001b[0m     result \u001b[38;5;241m=\u001b[39m \u001b[38;5;28mself\u001b[39m\u001b[38;5;241m.\u001b[39m_cython_agg_general(\n\u001b[0;32m   2379\u001b[0m         \u001b[38;5;124m\"\u001b[39m\u001b[38;5;124mmean\u001b[39m\u001b[38;5;124m\"\u001b[39m,\n\u001b[0;32m   2380\u001b[0m         alt\u001b[38;5;241m=\u001b[39m\u001b[38;5;28;01mlambda\u001b[39;00m x: Series(x)\u001b[38;5;241m.\u001b[39mmean(numeric_only\u001b[38;5;241m=\u001b[39mnumeric_only),\n\u001b[0;32m   2381\u001b[0m         numeric_only\u001b[38;5;241m=\u001b[39mnumeric_only,\n\u001b[0;32m   2382\u001b[0m     )\n\u001b[0;32m   2383\u001b[0m     \u001b[38;5;28;01mreturn\u001b[39;00m result\u001b[38;5;241m.\u001b[39m__finalize__(\u001b[38;5;28mself\u001b[39m\u001b[38;5;241m.\u001b[39mobj, method\u001b[38;5;241m=\u001b[39m\u001b[38;5;124m\"\u001b[39m\u001b[38;5;124mgroupby\u001b[39m\u001b[38;5;124m\"\u001b[39m)\n",
      "File \u001b[1;32mD:\\Newfolder\\Lib\\site-packages\\pandas\\core\\groupby\\groupby.py:1929\u001b[0m, in \u001b[0;36mGroupBy._cython_agg_general\u001b[1;34m(self, how, alt, numeric_only, min_count, **kwargs)\u001b[0m\n\u001b[0;32m   1926\u001b[0m     result \u001b[38;5;241m=\u001b[39m \u001b[38;5;28mself\u001b[39m\u001b[38;5;241m.\u001b[39m_agg_py_fallback(how, values, ndim\u001b[38;5;241m=\u001b[39mdata\u001b[38;5;241m.\u001b[39mndim, alt\u001b[38;5;241m=\u001b[39malt)\n\u001b[0;32m   1927\u001b[0m     \u001b[38;5;28;01mreturn\u001b[39;00m result\n\u001b[1;32m-> 1929\u001b[0m new_mgr \u001b[38;5;241m=\u001b[39m data\u001b[38;5;241m.\u001b[39mgrouped_reduce(array_func)\n\u001b[0;32m   1930\u001b[0m res \u001b[38;5;241m=\u001b[39m \u001b[38;5;28mself\u001b[39m\u001b[38;5;241m.\u001b[39m_wrap_agged_manager(new_mgr)\n\u001b[0;32m   1931\u001b[0m out \u001b[38;5;241m=\u001b[39m \u001b[38;5;28mself\u001b[39m\u001b[38;5;241m.\u001b[39m_wrap_aggregated_output(res)\n",
      "File \u001b[1;32mD:\\Newfolder\\Lib\\site-packages\\pandas\\core\\internals\\managers.py:1428\u001b[0m, in \u001b[0;36mBlockManager.grouped_reduce\u001b[1;34m(self, func)\u001b[0m\n\u001b[0;32m   1424\u001b[0m \u001b[38;5;28;01mif\u001b[39;00m blk\u001b[38;5;241m.\u001b[39mis_object:\n\u001b[0;32m   1425\u001b[0m     \u001b[38;5;66;03m# split on object-dtype blocks bc some columns may raise\u001b[39;00m\n\u001b[0;32m   1426\u001b[0m     \u001b[38;5;66;03m#  while others do not.\u001b[39;00m\n\u001b[0;32m   1427\u001b[0m     \u001b[38;5;28;01mfor\u001b[39;00m sb \u001b[38;5;129;01min\u001b[39;00m blk\u001b[38;5;241m.\u001b[39m_split():\n\u001b[1;32m-> 1428\u001b[0m         applied \u001b[38;5;241m=\u001b[39m sb\u001b[38;5;241m.\u001b[39mapply(func)\n\u001b[0;32m   1429\u001b[0m         result_blocks \u001b[38;5;241m=\u001b[39m extend_blocks(applied, result_blocks)\n\u001b[0;32m   1430\u001b[0m \u001b[38;5;28;01melse\u001b[39;00m:\n",
      "File \u001b[1;32mD:\\Newfolder\\Lib\\site-packages\\pandas\\core\\internals\\blocks.py:366\u001b[0m, in \u001b[0;36mBlock.apply\u001b[1;34m(self, func, **kwargs)\u001b[0m\n\u001b[0;32m    360\u001b[0m \u001b[38;5;129m@final\u001b[39m\n\u001b[0;32m    361\u001b[0m \u001b[38;5;28;01mdef\u001b[39;00m \u001b[38;5;21mapply\u001b[39m(\u001b[38;5;28mself\u001b[39m, func, \u001b[38;5;241m*\u001b[39m\u001b[38;5;241m*\u001b[39mkwargs) \u001b[38;5;241m-\u001b[39m\u001b[38;5;241m>\u001b[39m \u001b[38;5;28mlist\u001b[39m[Block]:\n\u001b[0;32m    362\u001b[0m \u001b[38;5;250m    \u001b[39m\u001b[38;5;124;03m\"\"\"\u001b[39;00m\n\u001b[0;32m    363\u001b[0m \u001b[38;5;124;03m    apply the function to my values; return a block if we are not\u001b[39;00m\n\u001b[0;32m    364\u001b[0m \u001b[38;5;124;03m    one\u001b[39;00m\n\u001b[0;32m    365\u001b[0m \u001b[38;5;124;03m    \"\"\"\u001b[39;00m\n\u001b[1;32m--> 366\u001b[0m     result \u001b[38;5;241m=\u001b[39m func(\u001b[38;5;28mself\u001b[39m\u001b[38;5;241m.\u001b[39mvalues, \u001b[38;5;241m*\u001b[39m\u001b[38;5;241m*\u001b[39mkwargs)\n\u001b[0;32m    368\u001b[0m     result \u001b[38;5;241m=\u001b[39m maybe_coerce_values(result)\n\u001b[0;32m    369\u001b[0m     \u001b[38;5;28;01mreturn\u001b[39;00m \u001b[38;5;28mself\u001b[39m\u001b[38;5;241m.\u001b[39m_split_op_result(result)\n",
      "File \u001b[1;32mD:\\Newfolder\\Lib\\site-packages\\pandas\\core\\groupby\\groupby.py:1926\u001b[0m, in \u001b[0;36mGroupBy._cython_agg_general.<locals>.array_func\u001b[1;34m(values)\u001b[0m\n\u001b[0;32m   1923\u001b[0m \u001b[38;5;28;01melse\u001b[39;00m:\n\u001b[0;32m   1924\u001b[0m     \u001b[38;5;28;01mreturn\u001b[39;00m result\n\u001b[1;32m-> 1926\u001b[0m result \u001b[38;5;241m=\u001b[39m \u001b[38;5;28mself\u001b[39m\u001b[38;5;241m.\u001b[39m_agg_py_fallback(how, values, ndim\u001b[38;5;241m=\u001b[39mdata\u001b[38;5;241m.\u001b[39mndim, alt\u001b[38;5;241m=\u001b[39malt)\n\u001b[0;32m   1927\u001b[0m \u001b[38;5;28;01mreturn\u001b[39;00m result\n",
      "File \u001b[1;32mD:\\Newfolder\\Lib\\site-packages\\pandas\\core\\groupby\\groupby.py:1878\u001b[0m, in \u001b[0;36mGroupBy._agg_py_fallback\u001b[1;34m(self, how, values, ndim, alt)\u001b[0m\n\u001b[0;32m   1876\u001b[0m     msg \u001b[38;5;241m=\u001b[39m \u001b[38;5;124mf\u001b[39m\u001b[38;5;124m\"\u001b[39m\u001b[38;5;124magg function failed [how->\u001b[39m\u001b[38;5;132;01m{\u001b[39;00mhow\u001b[38;5;132;01m}\u001b[39;00m\u001b[38;5;124m,dtype->\u001b[39m\u001b[38;5;132;01m{\u001b[39;00mser\u001b[38;5;241m.\u001b[39mdtype\u001b[38;5;132;01m}\u001b[39;00m\u001b[38;5;124m]\u001b[39m\u001b[38;5;124m\"\u001b[39m\n\u001b[0;32m   1877\u001b[0m     \u001b[38;5;66;03m# preserve the kind of exception that raised\u001b[39;00m\n\u001b[1;32m-> 1878\u001b[0m     \u001b[38;5;28;01mraise\u001b[39;00m \u001b[38;5;28mtype\u001b[39m(err)(msg) \u001b[38;5;28;01mfrom\u001b[39;00m \u001b[38;5;21;01merr\u001b[39;00m\n\u001b[0;32m   1880\u001b[0m \u001b[38;5;28;01mif\u001b[39;00m ser\u001b[38;5;241m.\u001b[39mdtype \u001b[38;5;241m==\u001b[39m \u001b[38;5;28mobject\u001b[39m:\n\u001b[0;32m   1881\u001b[0m     res_values \u001b[38;5;241m=\u001b[39m res_values\u001b[38;5;241m.\u001b[39mastype(\u001b[38;5;28mobject\u001b[39m, copy\u001b[38;5;241m=\u001b[39m\u001b[38;5;28;01mFalse\u001b[39;00m)\n",
      "\u001b[1;31mTypeError\u001b[0m: agg function failed [how->mean,dtype->object]"
     ]
    }
   ],
   "source": [
    "##Scores by School Type\n",
    "grouped_school_summary_df=school_summary_df.groupby([\"School Type\"])\n",
    "type_summary_df=grouped_school_summary_df.mean()\n",
    "type_summary_df[[\"Average Math Score\", \"Average Reading Score\" \n",
    "                     , \"% Passing Math\", \"% Passing Reading\", \"% Overall Passing\"]]"
   ]
  },
  {
   "cell_type": "code",
   "execution_count": null,
   "id": "f9192887-7a42-4b53-9ab8-b25e03f29e33",
   "metadata": {},
   "outputs": [],
   "source": []
  }
 ],
 "metadata": {
  "kernelspec": {
   "display_name": "Python 3 (ipykernel)",
   "language": "python",
   "name": "python3"
  },
  "language_info": {
   "codemirror_mode": {
    "name": "ipython",
    "version": 3
   },
   "file_extension": ".py",
   "mimetype": "text/x-python",
   "name": "python",
   "nbconvert_exporter": "python",
   "pygments_lexer": "ipython3",
   "version": "3.11.5"
  }
 },
 "nbformat": 4,
 "nbformat_minor": 5
}
